{
 "cells": [
  {
   "cell_type": "markdown",
   "id": "0d45684a-a37e-4eef-b8f5-45b38e8617ea",
   "metadata": {},
   "source": [
    "# Tutorial"
   ]
  },
  {
   "cell_type": "code",
   "execution_count": 1,
   "id": "bd8f9914-c974-45a5-b700-3fc33b1528e7",
   "metadata": {},
   "outputs": [
    {
     "name": "stdout",
     "output_type": "stream",
     "text": [
      "/workspace/Experiments\n"
     ]
    }
   ],
   "source": [
    "!pwd"
   ]
  },
  {
   "cell_type": "markdown",
   "id": "e15c8276-b43f-4ca4-9e29-5dc8d11c84dd",
   "metadata": {},
   "source": [
    "## Local File store logging\n",
    "By default, mlflow run as local file store mode generating logging information under current working directory. You can check what files are created at every mlflor logging as I print out the directory structures below"
   ]
  },
  {
   "cell_type": "code",
   "execution_count": 2,
   "id": "edc376bf-6c2f-4335-8e69-cec12dc0bb01",
   "metadata": {},
   "outputs": [
    {
     "name": "stdout",
     "output_type": "stream",
     "text": [
      "[0]-------------------\n",
      "\u001b[01;34m/workspace/Experiments\u001b[00m\n",
      "├── install-venv.sh\n",
      "├── mlflow-rnd.ipynb\n",
      "├── README.md\n",
      "└── \u001b[01;32mrun-venv.sh\u001b[00m\n",
      "\n",
      "0 directories, 4 files\n",
      "\u001b[01;34m/workspace/Experiments\u001b[00m\n",
      "├── install-venv.sh\n",
      "├── mlflow-rnd.ipynb\n",
      "├── \u001b[01;34mmlruns\u001b[00m\n",
      "│   └── \u001b[01;34m0\u001b[00m\n",
      "│       ├── \u001b[01;34mcc1bcf9a32594cef906e21def7407134\u001b[00m\n",
      "│       │   ├── \u001b[01;34martifacts\u001b[00m\n",
      "│       │   │   └── test.txt\n",
      "│       │   ├── meta.yaml\n",
      "│       │   ├── \u001b[01;34mmetrics\u001b[00m\n",
      "│       │   │   └── foo\n",
      "│       │   ├── \u001b[01;34mparams\u001b[00m\n",
      "│       │   │   └── param0\n",
      "│       │   └── \u001b[01;34mtags\u001b[00m\n",
      "│       │       ├── mlflow.source.name\n",
      "│       │       ├── mlflow.source.type\n",
      "│       │       └── mlflow.user\n",
      "│       └── meta.yaml\n",
      "├── \u001b[01;34moutputs\u001b[00m\n",
      "│   └── test.txt\n",
      "├── README.md\n",
      "└── \u001b[01;32mrun-venv.sh\u001b[00m\n",
      "\n",
      "8 directories, 13 files\n",
      "[1]-------------------\n",
      "\u001b[01;34m/workspace/Experiments\u001b[00m\n",
      "├── install-venv.sh\n",
      "├── mlflow-rnd.ipynb\n",
      "├── \u001b[01;34mmlruns\u001b[00m\n",
      "│   └── \u001b[01;34m0\u001b[00m\n",
      "│       ├── \u001b[01;34mcc1bcf9a32594cef906e21def7407134\u001b[00m\n",
      "│       │   ├── \u001b[01;34martifacts\u001b[00m\n",
      "│       │   │   └── test.txt\n",
      "│       │   ├── meta.yaml\n",
      "│       │   ├── \u001b[01;34mmetrics\u001b[00m\n",
      "│       │   │   └── foo\n",
      "│       │   ├── \u001b[01;34mparams\u001b[00m\n",
      "│       │   │   └── param0\n",
      "│       │   └── \u001b[01;34mtags\u001b[00m\n",
      "│       │       ├── mlflow.source.name\n",
      "│       │       ├── mlflow.source.type\n",
      "│       │       └── mlflow.user\n",
      "│       └── meta.yaml\n",
      "├── \u001b[01;34moutputs\u001b[00m\n",
      "│   └── test.txt\n",
      "├── README.md\n",
      "└── \u001b[01;32mrun-venv.sh\u001b[00m\n",
      "\n",
      "8 directories, 13 files\n",
      "\u001b[01;34m/workspace/Experiments\u001b[00m\n",
      "├── install-venv.sh\n",
      "├── mlflow-rnd.ipynb\n",
      "├── \u001b[01;34mmlruns\u001b[00m\n",
      "│   └── \u001b[01;34m0\u001b[00m\n",
      "│       ├── \u001b[01;34mcc1bcf9a32594cef906e21def7407134\u001b[00m\n",
      "│       │   ├── \u001b[01;34martifacts\u001b[00m\n",
      "│       │   │   └── test.txt\n",
      "│       │   ├── meta.yaml\n",
      "│       │   ├── \u001b[01;34mmetrics\u001b[00m\n",
      "│       │   │   └── foo\n",
      "│       │   ├── \u001b[01;34mparams\u001b[00m\n",
      "│       │   │   ├── param0\n",
      "│       │   │   └── param1\n",
      "│       │   └── \u001b[01;34mtags\u001b[00m\n",
      "│       │       ├── mlflow.source.name\n",
      "│       │       ├── mlflow.source.type\n",
      "│       │       └── mlflow.user\n",
      "│       └── meta.yaml\n",
      "├── \u001b[01;34moutputs\u001b[00m\n",
      "│   └── test.txt\n",
      "├── README.md\n",
      "└── \u001b[01;32mrun-venv.sh\u001b[00m\n",
      "\n",
      "8 directories, 14 files\n"
     ]
    }
   ],
   "source": [
    "import os\n",
    "from random import random, randint\n",
    "from mlflow import log_metric, log_param, log_artifacts\n",
    "\n",
    "if __name__ == \"__main__\":\n",
    "    # Log a parameter (key-value pair)\n",
    "    for i in range(2):\n",
    "        print(f'[{i}]-------------------')\n",
    "        !tree /workspace/Experiments\n",
    "\n",
    "        log_param(f\"param{i}\", randint(0, 100))\n",
    "        # Log a metric; metrics can be updated throughout the run\n",
    "        log_metric(\"foo\", random())\n",
    "        log_metric(\"foo\", random() + 1)\n",
    "        log_metric(\"foo\", random() + 2)\n",
    "        # Log an artifact (output file)\n",
    "        if not os.path.exists(\"outputs\"):\n",
    "            os.makedirs(\"outputs\")\n",
    "        with open(\"outputs/test.txt\", \"w\") as f:\n",
    "            f.write(\"hello world!\")\n",
    "        log_artifacts(\"outputs\")\n",
    "        !tree /workspace/Experiments\n",
    "        "
   ]
  },
  {
   "cell_type": "markdown",
   "id": "225dab6e-feb3-4c54-ae1b-ca0bc376fdf8",
   "metadata": {},
   "source": [
    "## Remote Tracking Server\n",
    "\n"
   ]
  },
  {
   "cell_type": "markdown",
   "id": "d179d854-a901-4b06-8510-4b5492e0d31d",
   "metadata": {},
   "source": [
    "MLflow supports seven types of filesystme to store artifact as follows. And I use [SFTP](https://mlflow.org/docs/latest/tracking.html#sftp-server) for my convenience of this research.\n",
    "* Amazon S3 and S3-compatible storage\n",
    "* Azure Blob Storage\n",
    "* Google Cloud Storage\n",
    "* FTP server\n",
    "* `SFTP Server`\n",
    "* NFS\n",
    "* HDFS\n",
    "\n",
    "\n",
    "Below is a part of setting public key based authentication method for ssh or sftp connection to remote server. \n",
    "\n",
    "```bash\n",
    "ssh-keygen -t rsa\n",
    "ssh-keygen -p -m PEM -f ~/.ssh/id_rsa\n",
    "# and copy and paste a string from id_rsa.pub to ~/.ssh/authorized_keys in remote server\n",
    "```\n",
    "\n",
    "```python\n",
    "#append  configuration in ~/.ssh/config file as follows\n",
    "Host kingo.iptime.org\n",
    "    Hostname kingo.iptime.org\n",
    "    Port 7022\n",
    "    User damianos\n",
    "    ServerAliveCountMax 10\n",
    "    ServerAliveInterval 60\n",
    "    IdentityFile ~/.ssh/id_rsa\n",
    "```\n",
    "\n",
    "For the reason that there is a bug in pysftp, temporal modification of pysftp source code is required in a file '/opt/conda/envs/mlflow/lib/python3.7/site-packages/mlflow/store/artifact/sftp_artifact_repo.py'\n",
    "Replace line 70 with next 4 lines of code\n",
    "```python\n",
    "70             options = pysftp.CnOpts()\n",
    "71             options.hostkeys=None\n",
    "72             self.config['cnopts']=options\n",
    "73             self.sftp = pysftp.Connection(**self.config)\n",
    "```\n"
   ]
  },
  {
   "cell_type": "markdown",
   "id": "e6acef18-16ee-49c2-84e2-dd2a5bf53897",
   "metadata": {},
   "source": [
    "MLflow server is running on my host OS.  This section folelow the steps explained in mlflow [Quickstart page](https://mlflow.org/docs/latest/quickstart.html#logging-to-a-remote-tracking-server) to test how mlflow client successfully write log to the mlflow server running on the remote server. To test this, we need to install packages such as mlflow and pysftp and execute server with a few options as below code block. \n",
    "\n",
    "```bash\n",
    "pip install pysftp\n",
    "pip install mlfow[extras]\n",
    "mkdir ~/mlflow/store ~/mlflow/artifact\n",
    "mlflow server --port 9000 --host 0.0.0.0 \\\n",
    "    --backend-store-uri /home/damianos/mlflow/store \\\n",
    "    --default-artifact-root sftp://damianos@kingo.iptime.org:7022/home/damianos/mlflow/artifact\n",
    "```\n"
   ]
  },
  {
   "cell_type": "code",
   "execution_count": 8,
   "id": "d8792095-a7f3-4b93-8a04-8640dabd3dab",
   "metadata": {},
   "outputs": [
    {
     "name": "stdout",
     "output_type": "stream",
     "text": [
      "['.bash_history', '.bash_it', '.bash_logout', '.bashrc', '.bashrc.backup', '.bashrc.bak', '.boto', '.cache', '.config', '.docker', '.exa', '.gitconfig', '.gnome', '.gnupg', '.ipynb_checkpoints', '.ipython', '.iterm2', '.iterm2_shell_integration.bash', '.iterm2_shell_integration.zsh', '.jupyter', '.keras', '.lesshst', '.local', '.mozilla', '.mypy_cache', '.npm', '.nv', '.nvm', '.oh-my-zsh', '.p10k.zsh', '.pam_environment', '.pki', '.profile', '.python_history', '.shell.pre-oh-my-zsh', '.ssh', '.sudo_as_admin_successful', '.thunderbird', '.vim', '.viminfo', '.vimrc', '.virtual_documents', '.vnc', '.vscode', '.wget-hsts', '.workspace', '.xinputrc', '.yarn', '.zcompcache', '.zcompdump', '.zcompdump-damianos-5.8', '.zplug', '.zsh_history', '.zshrc', '.zshrc.bak', 'Desktop', 'Documents', 'Downloads', 'Music', 'Pictures', 'Public', 'Templates', 'Untitled.ipynb', 'Untitled1.ipynb', 'Untitled10.ipynb', 'Untitled2.ipynb', 'Untitled3.ipynb', 'Untitled4.ipynb', 'Untitled5.ipynb', 'Untitled6.ipynb', 'Untitled7.ipynb', 'Untitled8.ipynb', 'Untitled9.ipynb', 'Videos', 'ao-modeling', 'bin', 'build.log', 'cudnn_samples_v8', 'diamond-dresser', 'exa_0.9.0-4_amd64.deb', 'exa_0.9.0-5_amd64.deb', 'gcp-tests', 'geckodriver.log', 'google-cloud-sdk-335.0.0-linux-x86_64.tar.gz', 'jupyterlab', 'jupyterlab.bak', 'lazyprofiler', 'lib', 'mlflow', 'mlops-rnd', 'mlworkspace-start.sh', 'msgs', 'note-build', 'note-dockers', 'nvtop', 'old-gcloud-sdk', 'oss-review', 'pywhatkit_dbs.txt', 'rik_kernel-7ba7f01d-25db-48b5-9c38-d69ba1cb1e1a.json', 'rik_kernel-832f2d0b-e180-4b3c-a878-0d51a2f16b5e.json', 'rik_kernel-986f95e3-9299-4343-a86d-4fcfab515e0d.json', 'rik_kernel-c2a6ca01-7589-4644-871a-f75ed869c098.json', 'rnd-ray', 'snap', 'test.csv', 'tmp', 'untitled.pipeline', 'untitled.py', 'untitled.r', 'untitled1.py', 'vbox-vms']\n"
     ]
    }
   ],
   "source": [
    "import pysftp\n",
    "\n",
    "options = pysftp.CnOpts()\n",
    "options.hostkeys=None\n",
    "with pysftp.Connection(host='kingo.iptime.org',port=7022, username='damianos', cnopts=options ) as sftp:\n",
    "    with sftp.cd('/home/damianos'):             # temporarily chdir to public\n",
    "        print(sftp.listdir())"
   ]
  },
  {
   "cell_type": "code",
   "execution_count": 10,
   "id": "6dd8f8cb-7a0d-4c58-82a2-480dfd47f64c",
   "metadata": {},
   "outputs": [
    {
     "name": "stdout",
     "output_type": "stream",
     "text": [
      "\u001b[01;34m/workspace/Experiments\u001b[00m\n",
      "├── install-venv.sh\n",
      "├── mlflow-rnd.ipynb\n",
      "├── \u001b[01;34mmlruns\u001b[00m\n",
      "│   └── \u001b[01;34m0\u001b[00m\n",
      "│       ├── \u001b[01;34mcc1bcf9a32594cef906e21def7407134\u001b[00m\n",
      "│       │   ├── \u001b[01;34martifacts\u001b[00m\n",
      "│       │   │   └── test.txt\n",
      "│       │   ├── meta.yaml\n",
      "│       │   ├── \u001b[01;34mmetrics\u001b[00m\n",
      "│       │   │   └── foo\n",
      "│       │   ├── \u001b[01;34mparams\u001b[00m\n",
      "│       │   │   ├── param0\n",
      "│       │   │   └── param1\n",
      "│       │   └── \u001b[01;34mtags\u001b[00m\n",
      "│       │       ├── mlflow.source.name\n",
      "│       │       ├── mlflow.source.type\n",
      "│       │       └── mlflow.user\n",
      "│       └── meta.yaml\n",
      "├── \u001b[01;34moutputs\u001b[00m\n",
      "│   └── test.txt\n",
      "├── README.md\n",
      "└── \u001b[01;32mrun-venv.sh\u001b[00m\n",
      "\n",
      "8 directories, 14 files\n",
      "[15]-------------------\n",
      "[16]-------------------\n",
      "[17]-------------------\n",
      "[18]-------------------\n",
      "[19]-------------------\n",
      "\u001b[01;34m/workspace/Experiments\u001b[00m\n",
      "├── install-venv.sh\n",
      "├── mlflow-rnd.ipynb\n",
      "├── \u001b[01;34mmlruns\u001b[00m\n",
      "│   └── \u001b[01;34m0\u001b[00m\n",
      "│       ├── \u001b[01;34mcc1bcf9a32594cef906e21def7407134\u001b[00m\n",
      "│       │   ├── \u001b[01;34martifacts\u001b[00m\n",
      "│       │   │   └── test.txt\n",
      "│       │   ├── meta.yaml\n",
      "│       │   ├── \u001b[01;34mmetrics\u001b[00m\n",
      "│       │   │   └── foo\n",
      "│       │   ├── \u001b[01;34mparams\u001b[00m\n",
      "│       │   │   ├── param0\n",
      "│       │   │   └── param1\n",
      "│       │   └── \u001b[01;34mtags\u001b[00m\n",
      "│       │       ├── mlflow.source.name\n",
      "│       │       ├── mlflow.source.type\n",
      "│       │       └── mlflow.user\n",
      "│       └── meta.yaml\n",
      "├── \u001b[01;34moutputs\u001b[00m\n",
      "│   └── test.txt\n",
      "├── README.md\n",
      "└── \u001b[01;32mrun-venv.sh\u001b[00m\n",
      "\n",
      "8 directories, 14 files\n"
     ]
    }
   ],
   "source": [
    "import os\n",
    "from random import random, randint\n",
    "from mlflow import log_metric, log_param, log_artifacts\n",
    "import mlflow\n",
    "\n",
    "# mlflow.set_tracking_uri(\"http://YOUR-SERVER:4040\")\n",
    "mlflow.set_tracking_uri(\"http://kingo.iptime.org:9000\")\n",
    "mlflow.set_experiment(\"my-experiment-1\")\n",
    "\n",
    "if __name__ == \"__main__\":\n",
    "    # Log a parameter (key-value pair)\n",
    "    !tree /workspace/Experiments\n",
    "\n",
    "    with mlflow.start_run(nested=True):\n",
    "        for i in range(15,20):\n",
    "            print(f'[{i}]-------------------')\n",
    "\n",
    "            log_param(f\"param{i}\", randint(0, 100))\n",
    "            # Log a metric; metrics can be updated throughout the run\n",
    "            log_metric(\"foo\", random())\n",
    "            log_metric(\"foo\", random() + 1)\n",
    "            log_metric(\"foo\", random() + 2)\n",
    "            # Log an artifact (output file)\n",
    "            if not os.path.exists(\"outputs\"):\n",
    "                os.makedirs(\"outputs\")\n",
    "            with open(\"outputs/test.txt\", \"w\") as f:\n",
    "                f.write(\"hello world!\")\n",
    "            log_artifacts(\"outputs\")\n",
    "\n",
    "    !tree /workspace/Experiments\n"
   ]
  },
  {
   "cell_type": "markdown",
   "id": "35f338d6-311d-4620-bbb8-ac00ad8f0469",
   "metadata": {},
   "source": [
    "There are no changes in local folder filesystem as, deservedly, remote tracking is enabled and we can confirm that logging results are shown on the remote mlflow server UI. Following screenshots are the UI\n",
    "\n",
    "![](./mlflow1.png)\n",
    "\n",
    "![](./mlflow2.png)\n",
    "\n",
    "![](./mlflow3.png)\n",
    "\n",
    "![](./mlflow4.png)\n",
    "\n",
    "![](./mlflow5.png)"
   ]
  },
  {
   "cell_type": "code",
   "execution_count": 5,
   "id": "62a954ec-4f75-49f5-83e9-8b717aac30a6",
   "metadata": {},
   "outputs": [
    {
     "name": "stdout",
     "output_type": "stream",
     "text": [
      "total 44\n",
      "drwxr-xr-x 3 root    root    4096 Sep  3 20:45 v8-compile-cache-0\n",
      "drwx------ 2 root    root    4096 Sep  6 12:18 ssh-MyaNkLSMmYVF\n",
      "drwx------ 2 root    root    4096 Sep  6 12:18 ssh-uNVU9NZInVqe\n",
      "-rw------- 1 root    root     338 Sep  6 12:18 ICEauthority\n",
      "drwx------ 2 root    root    4096 Sep  6 12:18 gvfs\n",
      "drwx------ 2 root    root    4096 Sep  6 12:18 dconf\n",
      "drwx------ 2 root    root    4096 Sep  6 12:18 tracker-extract-files.0\n",
      "srwxrwx--- 1 netdata netdata    0 Sep  6 16:15 netdata-ipc\n",
      "-rw------- 1 root    root    1819 Sep  6 22:21 jupyterlab-debug-gcqo9gzt.log\n",
      "drwx------ 2 root    root    4096 Sep  6 22:46 tmpuilak3q5_kernels\n",
      "drwx------ 2 root    root    4096 Sep  6 22:49 tmpy3qfe135_kernels\n",
      "drwx------ 2 root    root    4096 Sep  6 22:51 tmplyshyh4v_kernels\n",
      "Mon 06 Sep 2021 11:14:11 PM KST\n"
     ]
    }
   ],
   "source": [
    "!ls -lrt /tmp\n",
    "!date"
   ]
  },
  {
   "cell_type": "markdown",
   "id": "12c4397b-b662-467d-8c15-7857393fcc70",
   "metadata": {},
   "source": [
    "# MLflow on remote with Tracking Server and SQLite\n",
    "This example requires SQLite db for ElasticnetWineModel. Execute remote server with a new command as follows.\n",
    "```bash\n",
    "mlflow server --port 9000 --host 0.0.0.0 \\                                                 \n",
    "    --backend-store-uri sqlite:///mydb.sqlite \\\n",
    "    --default-artifact-root sftp://damianos@kingo.iptime.org:7022/home/damianos/mlflow/artifact\n",
    "```"
   ]
  },
  {
   "cell_type": "code",
   "execution_count": 6,
   "id": "94288a82-5c72-48ce-9a46-00a1d8461baf",
   "metadata": {
    "tags": [
     "parameters"
    ]
   },
   "outputs": [],
   "source": [
    "#parameters \n",
    "sysargv=[0,]"
   ]
  },
  {
   "cell_type": "code",
   "execution_count": 8,
   "id": "cb8fa379-44dc-4bd0-8daa-27f06f569ee3",
   "metadata": {
    "tags": []
   },
   "outputs": [
    {
     "name": "stdout",
     "output_type": "stream",
     "text": [
      "INFO: 'my-experiment-2' does not exist. Creating a new experiment\n",
      "sysargv [0]\n",
      "Elasticnet model (alpha=0.500000, l1_ratio=0.500000):\n",
      "  RMSE: 0.7931640229276851\n",
      "  MAE: 0.6271946374319586\n",
      "  R2: 0.10862644997792614\n"
     ]
    },
    {
     "name": "stderr",
     "output_type": "stream",
     "text": [
      "Successfully registered model 'ElasticnetWineModel'.\n",
      "2021/09/07 03:30:22 INFO mlflow.tracking._model_registry.client: Waiting up to 300 seconds for model version to finish creation.                     Model name: ElasticnetWineModel, version 1\n",
      "Created version '1' of model 'ElasticnetWineModel'.\n"
     ]
    }
   ],
   "source": [
    "#  The data set used in this example is from http://archive.ics.uci.edu/ml/datasets/Wine+Quality\n",
    "# P. Cortez, A. Cerdeira, F. Almeida, T. Matos and J. Reis.\n",
    "# Modeling wine preferences by data mining from physicochemical properties. In Decision Support Systems, Elsevier, 47(4):547-553, 2009.\n",
    "\n",
    "import os\n",
    "import warnings\n",
    "import sys\n",
    "\n",
    "import pandas as pd\n",
    "import numpy as np\n",
    "from sklearn.metrics import mean_squared_error, mean_absolute_error, r2_score\n",
    "from sklearn.model_selection import train_test_split\n",
    "from sklearn.linear_model import ElasticNet\n",
    "from urllib.parse import urlparse\n",
    "import mlflow\n",
    "import mlflow.sklearn\n",
    "\n",
    "import logging\n",
    "\n",
    "logging.basicConfig(level=logging.WARN)\n",
    "logger = logging.getLogger(__name__)\n",
    "mlflow.set_tracking_uri(\"http://kingo.iptime.org:9000\")\n",
    "mlflow.set_experiment(\"my-experiment-2\")\n",
    "\n",
    "def eval_metrics(actual, pred):\n",
    "    rmse = np.sqrt(mean_squared_error(actual, pred))\n",
    "    mae = mean_absolute_error(actual, pred)\n",
    "    r2 = r2_score(actual, pred)\n",
    "    return rmse, mae, r2\n",
    "\n",
    "\n",
    "if __name__ == \"__main__\":\n",
    "    warnings.filterwarnings(\"ignore\")\n",
    "    np.random.seed(40)\n",
    "\n",
    "    # Read the wine-quality csv file from the URL\n",
    "    csv_url = (\n",
    "        \"http://archive.ics.uci.edu/ml/machine-learning-databases/wine-quality/winequality-red.csv\"\n",
    "    )\n",
    "    try:\n",
    "        data = pd.read_csv(csv_url, sep=\";\")\n",
    "    except Exception as e:\n",
    "        logger.exception(\n",
    "            \"Unable to download training & test CSV, check your internet connection. Error: %s\", e\n",
    "        )\n",
    "\n",
    "    # Split the data into training and test sets. (0.75, 0.25) split.\n",
    "    train, test = train_test_split(data)\n",
    "\n",
    "    # The predicted column is \"quality\" which is a scalar from [3, 9]\n",
    "    train_x = train.drop([\"quality\"], axis=1)\n",
    "    test_x = test.drop([\"quality\"], axis=1)\n",
    "    train_y = train[[\"quality\"]]\n",
    "    test_y = test[[\"quality\"]]\n",
    "\n",
    "    print('sysargv',sysargv)\n",
    "    alpha = float(sysargv[1]) if len(sysargv) > 1 else 0.5\n",
    "    l1_ratio = float(sysargv[2]) if len(sysargv) > 2 else 0.5\n",
    "\n",
    "    with mlflow.start_run():\n",
    "        lr = ElasticNet(alpha=alpha, l1_ratio=l1_ratio, random_state=42)\n",
    "        lr.fit(train_x, train_y)\n",
    "\n",
    "        predicted_qualities = lr.predict(test_x)\n",
    "\n",
    "        (rmse, mae, r2) = eval_metrics(test_y, predicted_qualities)\n",
    "\n",
    "        print(\"Elasticnet model (alpha=%f, l1_ratio=%f):\" % (alpha, l1_ratio))\n",
    "        print(\"  RMSE: %s\" % rmse)\n",
    "        print(\"  MAE: %s\" % mae)\n",
    "        print(\"  R2: %s\" % r2)\n",
    "\n",
    "        mlflow.log_param(\"alpha\", alpha)\n",
    "        mlflow.log_param(\"l1_ratio\", l1_ratio)\n",
    "        mlflow.log_metric(\"rmse\", rmse)\n",
    "        mlflow.log_metric(\"r2\", r2)\n",
    "        mlflow.log_metric(\"mae\", mae)\n",
    "\n",
    "        tracking_url_type_store = urlparse(mlflow.get_tracking_uri()).scheme\n",
    "\n",
    "        # Model registry does not work with file store\n",
    "        if tracking_url_type_store != \"file\":\n",
    "\n",
    "            # Register the model\n",
    "            # There are other ways to use the Model Registry, which depends on the use case,\n",
    "            # please refer to the doc for more information:\n",
    "            # https://mlflow.org/docs/latest/model-registry.html#api-workflow\n",
    "            mlflow.sklearn.log_model(lr, \"model\", registered_model_name=\"ElasticnetWineModel\")\n",
    "        else:\n",
    "            mlflow.sklearn.log_model(lr, \"model\")"
   ]
  },
  {
   "cell_type": "code",
   "execution_count": 9,
   "id": "f610621f-2319-478a-8238-b821acf1550a",
   "metadata": {},
   "outputs": [],
   "source": [
    "# Wine Quality Sample\n",
    "def train(in_alpha, in_l1_ratio):\n",
    "    import os\n",
    "    import warnings\n",
    "    import sys\n",
    "\n",
    "    import pandas as pd\n",
    "    import numpy as np\n",
    "    from sklearn.metrics import mean_squared_error, mean_absolute_error, r2_score\n",
    "    from sklearn.model_selection import train_test_split\n",
    "    from sklearn.linear_model import ElasticNet\n",
    "\n",
    "    import mlflow\n",
    "    import mlflow.sklearn\n",
    "    \n",
    "    import logging\n",
    "    logging.basicConfig(level=logging.WARN)\n",
    "    logger = logging.getLogger(__name__)\n",
    "\n",
    "    def eval_metrics(actual, pred):\n",
    "        rmse = np.sqrt(mean_squared_error(actual, pred))\n",
    "        mae = mean_absolute_error(actual, pred)\n",
    "        r2 = r2_score(actual, pred)\n",
    "        return rmse, mae, r2\n",
    "\n",
    "\n",
    "    warnings.filterwarnings(\"ignore\")\n",
    "    np.random.seed(40)\n",
    "\n",
    "    # Read the wine-quality csv file from the URL\n",
    "    csv_url =\\\n",
    "        'http://archive.ics.uci.edu/ml/machine-learning-databases/wine-quality/winequality-red.csv'\n",
    "    try:\n",
    "        data = pd.read_csv(csv_url, sep=';')\n",
    "    except Exception as e:\n",
    "        logger.exception(\n",
    "            \"Unable to download training & test CSV, check your internet connection. Error: %s\", e)\n",
    "\n",
    "    # Split the data into training and test sets. (0.75, 0.25) split.\n",
    "    train, test = train_test_split(data)\n",
    "\n",
    "    # The predicted column is \"quality\" which is a scalar from [3, 9]\n",
    "    train_x = train.drop([\"quality\"], axis=1)\n",
    "    test_x = test.drop([\"quality\"], axis=1)\n",
    "    train_y = train[[\"quality\"]]\n",
    "    test_y = test[[\"quality\"]]\n",
    "\n",
    "    # Set default values if no alpha is provided\n",
    "    if float(in_alpha) is None:\n",
    "        alpha = 0.5\n",
    "    else:\n",
    "        alpha = float(in_alpha)\n",
    "\n",
    "    # Set default values if no l1_ratio is provided\n",
    "    if float(in_l1_ratio) is None:\n",
    "        l1_ratio = 0.5\n",
    "    else:\n",
    "        l1_ratio = float(in_l1_ratio)\n",
    "\n",
    "    # Useful for multiple runs (only doing one run in this sample notebook)    \n",
    "    with mlflow.start_run():\n",
    "        # Execute ElasticNet\n",
    "        lr = ElasticNet(alpha=alpha, l1_ratio=l1_ratio, random_state=42)\n",
    "        lr.fit(train_x, train_y)\n",
    "\n",
    "        # Evaluate Metrics\n",
    "        predicted_qualities = lr.predict(test_x)\n",
    "        (rmse, mae, r2) = eval_metrics(test_y, predicted_qualities)\n",
    "\n",
    "        # Print out metrics\n",
    "        print(\"Elasticnet model (alpha=%f, l1_ratio=%f):\" % (alpha, l1_ratio))\n",
    "        print(\"  RMSE: %s\" % rmse)\n",
    "        print(\"  MAE: %s\" % mae)\n",
    "        print(\"  R2: %s\" % r2)\n",
    "\n",
    "        # Log parameter, metrics, and model to MLflow\n",
    "        mlflow.log_param(\"alpha\", alpha)\n",
    "        mlflow.log_param(\"l1_ratio\", l1_ratio)\n",
    "        mlflow.log_metric(\"rmse\", rmse)\n",
    "        mlflow.log_metric(\"r2\", r2)\n",
    "        mlflow.log_metric(\"mae\", mae)\n",
    "\n",
    "        mlflow.sklearn.log_model(lr, \"model\")"
   ]
  },
  {
   "cell_type": "code",
   "execution_count": 10,
   "id": "3c21d9c2-de1d-4cfb-b062-672b691fb4fa",
   "metadata": {},
   "outputs": [
    {
     "name": "stdout",
     "output_type": "stream",
     "text": [
      "Elasticnet model (alpha=0.500000, l1_ratio=0.500000):\n",
      "  RMSE: 0.7931640229276851\n",
      "  MAE: 0.6271946374319586\n",
      "  R2: 0.10862644997792614\n"
     ]
    }
   ],
   "source": [
    "train(0.5, 0.5)\n"
   ]
  },
  {
   "cell_type": "code",
   "execution_count": 11,
   "id": "927905cd-389e-4abb-865c-4972e0d5ee37",
   "metadata": {},
   "outputs": [
    {
     "name": "stdout",
     "output_type": "stream",
     "text": [
      "Elasticnet model (alpha=0.200000, l1_ratio=0.200000):\n",
      "  RMSE: 0.7336400911821402\n",
      "  MAE: 0.5643841279275428\n",
      "  R2: 0.23739466063584158\n"
     ]
    }
   ],
   "source": [
    "train(0.2, 0.2)\n"
   ]
  },
  {
   "cell_type": "code",
   "execution_count": 12,
   "id": "b05033a1-c6c6-400b-84a1-c651dbd45459",
   "metadata": {},
   "outputs": [
    {
     "name": "stdout",
     "output_type": "stream",
     "text": [
      "Elasticnet model (alpha=0.100000, l1_ratio=0.100000):\n",
      "  RMSE: 0.7128829045893679\n",
      "  MAE: 0.5462202174984664\n",
      "  R2: 0.2799376066653344\n"
     ]
    }
   ],
   "source": [
    "train(0.1, 0.1)\n"
   ]
  },
  {
   "cell_type": "code",
   "execution_count": null,
   "id": "af7b8b46-ed54-4296-99ad-7c7e34ad6a4f",
   "metadata": {},
   "outputs": [],
   "source": []
  }
 ],
 "metadata": {
  "kernelspec": {
   "display_name": "mlflow env",
   "language": "python",
   "name": "mlflow"
  },
  "language_info": {
   "codemirror_mode": {
    "name": "ipython",
    "version": 3
   },
   "file_extension": ".py",
   "mimetype": "text/x-python",
   "name": "python",
   "nbconvert_exporter": "python",
   "pygments_lexer": "ipython3",
   "version": "3.7.11"
  },
  "toc-autonumbering": false,
  "toc-showcode": false,
  "toc-showmarkdowntxt": false,
  "toc-showtags": true
 },
 "nbformat": 4,
 "nbformat_minor": 5
}
