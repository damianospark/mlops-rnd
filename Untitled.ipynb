{
 "cells": [
  {
   "cell_type": "code",
   "execution_count": 4,
   "id": "3c41d81a-3abf-4ee9-ac73-0c0645f1a813",
   "metadata": {
    "execution": {
     "iopub.execute_input": "2021-08-30T10:55:30.730506Z",
     "iopub.status.busy": "2021-08-30T10:55:30.730264Z",
     "iopub.status.idle": "2021-08-30T10:55:30.735156Z",
     "shell.execute_reply": "2021-08-30T10:55:30.734226Z",
     "shell.execute_reply.started": "2021-08-30T10:55:30.730483Z"
    },
    "tags": []
   },
   "outputs": [],
   "source": [
    "m={}\n",
    "m[0]={}\n",
    "m[0][1]={1,2,3}"
   ]
  },
  {
   "cell_type": "code",
   "execution_count": 5,
   "id": "776de23f-a100-4e97-906a-288059ff4d00",
   "metadata": {
    "execution": {
     "iopub.execute_input": "2021-08-30T10:55:35.596646Z",
     "iopub.status.busy": "2021-08-30T10:55:35.596319Z",
     "iopub.status.idle": "2021-08-30T10:55:35.603170Z",
     "shell.execute_reply": "2021-08-30T10:55:35.602048Z",
     "shell.execute_reply.started": "2021-08-30T10:55:35.596622Z"
    }
   },
   "outputs": [
    {
     "data": {
      "text/plain": [
       "{0: {1: {1, 2, 3}}}"
      ]
     },
     "execution_count": 5,
     "metadata": {},
     "output_type": "execute_result"
    }
   ],
   "source": [
    "m"
   ]
  },
  {
   "cell_type": "code",
   "execution_count": 12,
   "id": "b855a7c7-5138-442f-a190-9036d9afea36",
   "metadata": {
    "execution": {
     "iopub.execute_input": "2021-08-30T11:47:09.102351Z",
     "iopub.status.busy": "2021-08-30T11:47:09.101428Z",
     "iopub.status.idle": "2021-08-30T11:47:09.108247Z",
     "shell.execute_reply": "2021-08-30T11:47:09.107105Z",
     "shell.execute_reply.started": "2021-08-30T11:47:09.102330Z"
    },
    "tags": []
   },
   "outputs": [
    {
     "data": {
      "text/plain": [
       "[1, 2, 'c']"
      ]
     },
     "execution_count": 12,
     "metadata": {},
     "output_type": "execute_result"
    }
   ],
   "source": [
    "l=[1,2,'c']\n",
    "l"
   ]
  },
  {
   "cell_type": "code",
   "execution_count": 15,
   "id": "e0699ada-d8e6-4357-93b7-4ee4139d506a",
   "metadata": {
    "execution": {
     "iopub.execute_input": "2021-08-30T11:47:49.214163Z",
     "iopub.status.busy": "2021-08-30T11:47:49.213899Z",
     "iopub.status.idle": "2021-08-30T11:47:49.218890Z",
     "shell.execute_reply": "2021-08-30T11:47:49.217866Z",
     "shell.execute_reply.started": "2021-08-30T11:47:49.214144Z"
    },
    "tags": []
   },
   "outputs": [],
   "source": [
    "(a,b,c)=l"
   ]
  },
  {
   "cell_type": "code",
   "execution_count": 16,
   "id": "3f2c2656-6c8b-4bc3-951c-2ca72bf229e8",
   "metadata": {
    "execution": {
     "iopub.execute_input": "2021-08-30T11:47:51.325046Z",
     "iopub.status.busy": "2021-08-30T11:47:51.324864Z",
     "iopub.status.idle": "2021-08-30T11:47:51.331538Z",
     "shell.execute_reply": "2021-08-30T11:47:51.330326Z",
     "shell.execute_reply.started": "2021-08-30T11:47:51.325027Z"
    },
    "tags": []
   },
   "outputs": [
    {
     "name": "stdout",
     "output_type": "stream",
     "text": [
      "1 2 c\n"
     ]
    }
   ],
   "source": [
    "print(a,b,c)"
   ]
  },
  {
   "cell_type": "code",
   "execution_count": 19,
   "id": "72fe3d64-f3f8-40ac-a86c-753028a984c3",
   "metadata": {
    "execution": {
     "iopub.execute_input": "2021-08-30T13:34:43.071992Z",
     "iopub.status.busy": "2021-08-30T13:34:43.071690Z",
     "iopub.status.idle": "2021-08-30T13:34:43.079330Z",
     "shell.execute_reply": "2021-08-30T13:34:43.078380Z",
     "shell.execute_reply.started": "2021-08-30T13:34:43.071970Z"
    },
    "tags": []
   },
   "outputs": [
    {
     "data": {
      "text/plain": [
       "[[1,\n",
       "  2,\n",
       "  {'YY': 1, 'YN': 0, 'NY': 2, 'NN': 3, 'odds_ratio': 0.5, 'byYulesQ': 0.7}]]"
      ]
     },
     "execution_count": 19,
     "metadata": {},
     "output_type": "execute_result"
    }
   ],
   "source": [
    "out_list=[]\n",
    "YY=1\n",
    "YN=0\n",
    "NY=2\n",
    "NN=3\n",
    "odds_ratio=0.5\n",
    "yulesQ=0.7\n",
    "out_list.append([1,2,{'YY': YY, 'YN': YN, 'NY': NY, 'NN': NN, 'odds_ratio': odds_ratio, 'byYulesQ': yulesQ}])\n",
    "out_list"
   ]
  },
  {
   "cell_type": "code",
   "execution_count": 20,
   "id": "5e762327-405b-4bfb-a6a6-fbe960245143",
   "metadata": {
    "execution": {
     "iopub.execute_input": "2021-08-30T13:35:10.069538Z",
     "iopub.status.busy": "2021-08-30T13:35:10.069358Z",
     "iopub.status.idle": "2021-08-30T13:35:10.078328Z",
     "shell.execute_reply": "2021-08-30T13:35:10.077371Z",
     "shell.execute_reply.started": "2021-08-30T13:35:10.069520Z"
    }
   },
   "outputs": [
    {
     "data": {
      "text/plain": [
       "[[1,\n",
       "  2,\n",
       "  {'YY': 1, 'YN': 0, 'NY': 2, 'NN': 3, 'odds_ratio': 0.5, 'byYulesQ': 0.7}],\n",
       " [2,\n",
       "  1,\n",
       "  {'YY': 1, 'YN': 0, 'NY': 2, 'NN': 3, 'odds_ratio': 0.5, 'byYulesQ': 0.7}],\n",
       " [2,\n",
       "  2,\n",
       "  {'YY': 1, 'YN': 0, 'NY': 2, 'NN': 3, 'odds_ratio': 0.5, 'byYulesQ': 0.7}]]"
      ]
     },
     "execution_count": 20,
     "metadata": {},
     "output_type": "execute_result"
    }
   ],
   "source": [
    "out_list.append([2,1,{'YY': YY, 'YN': YN, 'NY': NY, 'NN': NN, 'odds_ratio': odds_ratio, 'byYulesQ': yulesQ}])\n",
    "out_list.append([2,2,{'YY': YY, 'YN': YN, 'NY': NY, 'NN': NN, 'odds_ratio': odds_ratio, 'byYulesQ': yulesQ}])\n",
    "out_list"
   ]
  },
  {
   "cell_type": "code",
   "execution_count": 21,
   "id": "174b9e46-01fd-4b24-9005-cd78ae28f112",
   "metadata": {
    "execution": {
     "iopub.execute_input": "2021-08-30T13:35:34.903137Z",
     "iopub.status.busy": "2021-08-30T13:35:34.902469Z",
     "iopub.status.idle": "2021-08-30T13:35:34.909977Z",
     "shell.execute_reply": "2021-08-30T13:35:34.909077Z",
     "shell.execute_reply.started": "2021-08-30T13:35:34.903111Z"
    }
   },
   "outputs": [
    {
     "name": "stdout",
     "output_type": "stream",
     "text": [
      "r [1, 2, {'YY': 1, 'YN': 0, 'NY': 2, 'NN': 3, 'odds_ratio': 0.5, 'byYulesQ': 0.7}]\n",
      "r [2, 1, {'YY': 1, 'YN': 0, 'NY': 2, 'NN': 3, 'odds_ratio': 0.5, 'byYulesQ': 0.7}]\n",
      "r [2, 2, {'YY': 1, 'YN': 0, 'NY': 2, 'NN': 3, 'odds_ratio': 0.5, 'byYulesQ': 0.7}]\n"
     ]
    }
   ],
   "source": [
    "for r in out_list:\n",
    "  print('r',r)"
   ]
  },
  {
   "cell_type": "code",
   "execution_count": 22,
   "id": "7f729774-4512-4224-b77e-a29324bab527",
   "metadata": {
    "execution": {
     "iopub.execute_input": "2021-08-30T13:36:42.246777Z",
     "iopub.status.busy": "2021-08-30T13:36:42.246213Z",
     "iopub.status.idle": "2021-08-30T13:36:42.252799Z",
     "shell.execute_reply": "2021-08-30T13:36:42.251793Z",
     "shell.execute_reply.started": "2021-08-30T13:36:42.246756Z"
    }
   },
   "outputs": [
    {
     "name": "stdout",
     "output_type": "stream",
     "text": [
      "[('Java', 14), ('Python', 3), ('JavaScript', 6)]\n"
     ]
    }
   ],
   "source": [
    "languages = ['Java', 'Python', 'JavaScript']\n",
    "versions = [14, 3, 6]\n",
    "\n",
    "result = zip(languages, versions)\n",
    "print(list(result))"
   ]
  },
  {
   "cell_type": "code",
   "execution_count": 23,
   "id": "ff1e4b59-5dfd-44bb-bf20-f24f22fc239d",
   "metadata": {
    "execution": {
     "iopub.execute_input": "2021-08-30T14:02:07.997646Z",
     "iopub.status.busy": "2021-08-30T14:02:07.997425Z",
     "iopub.status.idle": "2021-08-30T14:02:08.003436Z",
     "shell.execute_reply": "2021-08-30T14:02:08.002681Z",
     "shell.execute_reply.started": "2021-08-30T14:02:07.997624Z"
    }
   },
   "outputs": [
    {
     "data": {
      "text/plain": [
       "'a'"
      ]
     },
     "execution_count": 23,
     "metadata": {},
     "output_type": "execute_result"
    }
   ],
   "source": [
    "abc=['a','b','c','d']\n",
    "idx=[4,3,2,1,0]\n",
    "abc[idx[4]]"
   ]
  },
  {
   "cell_type": "code",
   "execution_count": 24,
   "id": "8d5df57a-3de8-4585-838a-ecf8eefc5197",
   "metadata": {
    "execution": {
     "iopub.execute_input": "2021-08-30T14:04:37.638560Z",
     "iopub.status.busy": "2021-08-30T14:04:37.638145Z",
     "iopub.status.idle": "2021-08-30T14:04:37.644153Z",
     "shell.execute_reply": "2021-08-30T14:04:37.643246Z",
     "shell.execute_reply.started": "2021-08-30T14:04:37.638535Z"
    }
   },
   "outputs": [
    {
     "data": {
      "text/plain": [
       "{0: {1: {1, 2, 3}}}"
      ]
     },
     "execution_count": 24,
     "metadata": {},
     "output_type": "execute_result"
    }
   ],
   "source": [
    "matrix={}\n",
    "matrix[0]={}\n",
    "matrix[0][1]={1,2,3}\n",
    "matrix"
   ]
  },
  {
   "cell_type": "code",
   "execution_count": 26,
   "id": "210db957-df9e-4dfc-af5c-b6cf5a5be3b7",
   "metadata": {
    "execution": {
     "iopub.execute_input": "2021-08-30T14:05:12.977013Z",
     "iopub.status.busy": "2021-08-30T14:05:12.975921Z",
     "iopub.status.idle": "2021-08-30T14:05:12.984203Z",
     "shell.execute_reply": "2021-08-30T14:05:12.983117Z",
     "shell.execute_reply.started": "2021-08-30T14:05:12.976973Z"
    },
    "tags": []
   },
   "outputs": [
    {
     "data": {
      "text/plain": [
       "2"
      ]
     },
     "execution_count": 26,
     "metadata": {},
     "output_type": "execute_result"
    }
   ],
   "source": [
    "int(idx[2])"
   ]
  },
  {
   "cell_type": "code",
   "execution_count": null,
   "id": "a19f947a-45d8-4135-951a-3edfdae68da6",
   "metadata": {},
   "outputs": [],
   "source": []
  }
 ],
 "metadata": {
  "kernelspec": {
   "display_name": "Python 3 (ipykernel)",
   "language": "python",
   "name": "python3"
  },
  "language_info": {
   "codemirror_mode": {
    "name": "ipython",
    "version": 3
   },
   "file_extension": ".py",
   "mimetype": "text/x-python",
   "name": "python",
   "nbconvert_exporter": "python",
   "pygments_lexer": "ipython3",
   "version": "3.8.11"
  },
  "widgets": {
   "application/vnd.jupyter.widget-state+json": {
    "state": {},
    "version_major": 2,
    "version_minor": 0
   }
  }
 },
 "nbformat": 4,
 "nbformat_minor": 5
}
