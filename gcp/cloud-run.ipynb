{
 "cells": [
  {
   "cell_type": "code",
   "execution_count": null,
   "id": "941c5469-7c51-4998-a247-1f4ad4249186",
   "metadata": {
    "tags": []
   },
   "outputs": [],
   "source": [
    "!gcloud auth list\n"
   ]
  },
  {
   "cell_type": "code",
   "execution_count": null,
   "id": "6466f894-ad95-4c91-bccd-fb60143ebe78",
   "metadata": {},
   "outputs": [],
   "source": [
    "!gcloud config set project prj-test"
   ]
  },
  {
   "cell_type": "code",
   "execution_count": null,
   "id": "1581e7dc-b0bc-47e5-bae1-81845f23a3f0",
   "metadata": {},
   "outputs": [],
   "source": [
    "!gcloud run services list"
   ]
  },
  {
   "cell_type": "code",
   "execution_count": null,
   "id": "2f4c7780-ed49-455d-b1ec-df46c692baae",
   "metadata": {},
   "outputs": [],
   "source": [
    "!yes | gcloud run services delete point-mgt --region=asia-northeast3"
   ]
  }
 ],
 "metadata": {
  "kernelspec": {
   "display_name": "Python 3 (ipykernel)",
   "language": "python",
   "name": "python3"
  },
  "language_info": {
   "codemirror_mode": {
    "name": "ipython",
    "version": 3
   },
   "file_extension": ".py",
   "mimetype": "text/x-python",
   "name": "python",
   "nbconvert_exporter": "python",
   "pygments_lexer": "ipython3",
   "version": "3.8.11"
  },
  "widgets": {
   "application/vnd.jupyter.widget-state+json": {
    "state": {},
    "version_major": 2,
    "version_minor": 0
   }
  }
 },
 "nbformat": 4,
 "nbformat_minor": 5
}
