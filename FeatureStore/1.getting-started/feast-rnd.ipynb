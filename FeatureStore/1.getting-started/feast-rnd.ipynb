{
 "cells": [
  {
   "cell_type": "markdown",
   "id": "1c168f62-a7fd-4fd6-9fd8-f240757359bf",
   "metadata": {},
   "source": [
    "# Setup environment"
   ]
  },
  {
   "cell_type": "markdown",
   "id": "8cf658a1-5eaf-4c4f-8d49-887510b36000",
   "metadata": {},
   "source": [
    "Before execute next cell you should run a command in a terminal as follows\n",
    "\n",
    "`$ source /workspace/FeatureStore/install-venv.sh`\n",
    "\n",
    "Change kernel to \"Py3.7 (Feast)\" and run cells orderly as below "
   ]
  },
  {
   "cell_type": "code",
   "execution_count": 2,
   "id": "e4eb1484-db5a-4b77-ad86-1bd1bd65d370",
   "metadata": {},
   "outputs": [
    {
     "name": "stdout",
     "output_type": "stream",
     "text": [
      "\u001b[37m#!/bin/bash\u001b[39;49;00m\n",
      "\u001b[37m# to influence current shell execute this script with source\u001b[39;49;00m\n",
      "\u001b[37m# $ source install-venv.sh\u001b[39;49;00m\n",
      "\n",
      "\n",
      "\u001b[37m# yes | jupyter kernelspec remove\u001b[39;49;00m\n",
      "\n",
      "conda init --all\n",
      "conda deactivate\n",
      "conda create -n feast-conda-env \u001b[31mpython\u001b[39;49;00m=\u001b[34m3\u001b[39;49;00m.7\n",
      "conda env list\n",
      "conda activate feast-conda-env\n",
      "yes | conda install pip ipykernel\n",
      "python -m ipykernel install --user --name feast-conda-env --display-name \u001b[33m\"Py3.7 (Feast)\"\u001b[39;49;00m\n",
      "jupyter kernelspec list\n",
      "conda env list\n",
      "ls /opt/conda/envs/feast-conda-env\n",
      "\n",
      "\u001b[37m# pip uninstall luigi\u001b[39;49;00m\n",
      "pip install feast[gcp] Pygments -U\n"
     ]
    }
   ],
   "source": [
    "!pygmentize /workspace/FeatureStore/install-venv.sh"
   ]
  },
  {
   "cell_type": "markdown",
   "id": "299dfd7e-a40b-4195-826e-b3a9245e5eda",
   "metadata": {},
   "source": [
    "# Create a feature repository\n",
    "A feature repository consists of:\n",
    "  * A collection of Python files containing feature declarations.\n",
    "  * A feature_store.yaml file containing infrastructural configuration.\n",
    "  * A .feastignore file containing paths in the feature repository to ignore.\n",
    "\n",
    "Typically, users store their feature repositories in a Git repository, especially when working in teams. However, using Git is not a requirement.\n",
    "\n",
    "## Initialize repo"
   ]
  },
  {
   "cell_type": "code",
   "execution_count": 2,
   "id": "9cedd48c-f153-4118-97e4-62ea4e991177",
   "metadata": {},
   "outputs": [
    {
     "name": "stdout",
     "output_type": "stream",
     "text": [
      "Feast is an open source project that collects anonymized error reporting and usage statistics. To opt out or learn more see https://docs.feast.dev/reference/usage\n",
      "\n",
      "Creating a new Feast repository in \u001b[1m\u001b[32m/workspace/FeatureStore/1.getting-started/feature_repo\u001b[0m.\n",
      "\n"
     ]
    }
   ],
   "source": [
    "!./run-venv.sh feast-conda-env \\\n",
    " feast init feature_repo\n"
   ]
  },
  {
   "cell_type": "code",
   "execution_count": 19,
   "id": "fdd291d1-d400-45d1-ae0f-a77b6c4931bf",
   "metadata": {},
   "outputs": [
    {
     "name": "stdout",
     "output_type": "stream",
     "text": [
      "/workspace/FeatureStore/1.getting-started/feature_repo\n",
      "\u001b[01;34m.\u001b[00m\n",
      "├── \u001b[01;34mdata\u001b[00m\n",
      "│   └── driver_stats.parquet\n",
      "├── example.py\n",
      "└── feature_store.yaml\n",
      "\n",
      "1 directory, 3 files\n"
     ]
    }
   ],
   "source": [
    "%cd feature_repo\n",
    "!tree -a"
   ]
  },
  {
   "cell_type": "code",
   "execution_count": 18,
   "id": "a85310ee-522e-4f7b-9309-d30df30ad43f",
   "metadata": {},
   "outputs": [
    {
     "name": "stdout",
     "output_type": "stream",
     "text": [
      "/workspace/FeatureStore/1.getting-started\n"
     ]
    }
   ],
   "source": [
    "%cd 1.getting-started/"
   ]
  },
  {
   "cell_type": "markdown",
   "id": "ea6aad09-96b5-4cb0-a7ed-748391deb855",
   "metadata": {},
   "source": [
    "## Generated files\n",
    "### 1. The **feature_store.yaml** configuration file :\n",
    "The configuration for a feature store is stored in a file named feature_store.yaml , which must be located at the root of a feature repository. An example feature_store.yaml file is shown below:\n"
   ]
  },
  {
   "cell_type": "code",
   "execution_count": 12,
   "id": "70edb7e2-43d6-43b5-ad22-42ef2c00e1fa",
   "metadata": {},
   "outputs": [
    {
     "name": "stdout",
     "output_type": "stream",
     "text": [
      "\u001b[94mproject\u001b[39;49;00m: feature_repo\n",
      "\u001b[94mregistry\u001b[39;49;00m: data/registry.db\n",
      "\u001b[94mprovider\u001b[39;49;00m: local\n",
      "\u001b[94monline_store\u001b[39;49;00m:\n",
      "    \u001b[94mpath\u001b[39;49;00m: data/online_store.db\n"
     ]
    }
   ],
   "source": [
    "!pygmentize feature_store.yaml"
   ]
  },
  {
   "cell_type": "markdown",
   "id": "af440b48-ca78-4619-bafe-55b566141042",
   "metadata": {},
   "source": [
    "**provider** defines where the raw data exists (for generating training data & feature values for serving), and where to materialize feature values to in the online store (for serving).\n",
    "* local: use file source / SQLite\n",
    "* gcp: use BigQuery / Google Cloud Datastore\n",
    "* aws: use Redshift / DynamoDB"
   ]
  },
  {
   "cell_type": "markdown",
   "id": "6ed68d1f-39c9-4817-bae7-32cb33f81c4b",
   "metadata": {},
   "source": [
    "### 2. The **.feastignore** file : \n",
    "This file should be created to stop feast execute irrelevant files for feast operation since feast executes all python file under repo folder recursively. This file contains paths that should be ignored when running feast apply. An example .feastignore is shown below:\n",
    "\n",
    "```\n",
    ".feastignore\n",
    "# Ignore virtual environment\n",
    "venv\n",
    "​\n",
    "# Ignore a specific Python file\n",
    "scripts/foo.py\n",
    "​\n",
    "# Ignore all Python files directly under scripts directory\n",
    "scripts/*.py\n",
    "​\n",
    "# Ignore all \"foo.py\" anywhere under scripts directory\n",
    "scripts/**/foo.py\n",
    "```"
   ]
  },
  {
   "cell_type": "markdown",
   "id": "5632c620-b343-4964-bf8b-bcc2b9e36454",
   "metadata": {},
   "source": [
    "### 3. **Feature definitions** : \n",
    "A feature repository can also contain one or more Python files that contain feature definitions. An example feature definition file is shown below:"
   ]
  },
  {
   "cell_type": "markdown",
   "id": "c805fa67-cf96-4a7d-8a2f-dd78ef35c3b0",
   "metadata": {},
   "source": [
    "Each project should be considered a completely separate universe of entities and features. It is not possible to retrieve features from multiple projects in a single request. Feastn team recommends having a single feature store and a single project per environment (dev, staging, prod) in their [\"Concepts\" page](https://docs.feast.dev/getting-started/concepts).\n",
    "![](https://gblobscdn.gitbook.com/assets%2F-LqPPgcuCulk4PnaI4Ob%2F-MaKKN_g2YldHEVf-XmU%2F-MaKTnYQG9kFhl8yPNTM%2Fimage.png?alt=media&token=1db54ccd-cb92-4239-b4a9-2db77d4ff626)"
   ]
  },
  {
   "cell_type": "code",
   "execution_count": 29,
   "id": "fd0d640d-e324-4a14-b84b-9041071ae3ef",
   "metadata": {},
   "outputs": [
    {
     "name": "stdout",
     "output_type": "stream",
     "text": [
      "0001: \u001b[37m# This is an example feature definition file\u001b[39;49;00m\n",
      "0002: \n",
      "0003: \u001b[34mfrom\u001b[39;49;00m \u001b[04m\u001b[36mgoogle\u001b[39;49;00m\u001b[04m\u001b[36m.\u001b[39;49;00m\u001b[04m\u001b[36mprotobuf\u001b[39;49;00m\u001b[04m\u001b[36m.\u001b[39;49;00m\u001b[04m\u001b[36mduration_pb2\u001b[39;49;00m \u001b[34mimport\u001b[39;49;00m Duration\n",
      "0004: \n",
      "0005: \u001b[34mfrom\u001b[39;49;00m \u001b[04m\u001b[36mfeast\u001b[39;49;00m \u001b[34mimport\u001b[39;49;00m Entity, Feature, FeatureView, FileSource, ValueType\n",
      "0006: \n",
      "0007: \u001b[37m# Read data from parquet files. Parquet is convenient for local development mode. For\u001b[39;49;00m\n",
      "0008: \u001b[37m# production, you can use your favorite DWH, such as BigQuery. See Feast documentation\u001b[39;49;00m\n",
      "0009: \u001b[37m# for more info.\u001b[39;49;00m\n",
      "0010: driver_hourly_stats = FileSource(\n",
      "0011:     path=\u001b[33m\"\u001b[39;49;00m\u001b[33m/workspace/FeatureStore/1.getting-started/feature_repo/data/driver_stats.parquet\u001b[39;49;00m\u001b[33m\"\u001b[39;49;00m,\n",
      "0012:     event_timestamp_column=\u001b[33m\"\u001b[39;49;00m\u001b[33mevent_timestamp\u001b[39;49;00m\u001b[33m\"\u001b[39;49;00m,\n",
      "0013:     created_timestamp_column=\u001b[33m\"\u001b[39;49;00m\u001b[33mcreated\u001b[39;49;00m\u001b[33m\"\u001b[39;49;00m,\n",
      "0014: )\n",
      "0015: \n",
      "0016: \u001b[37m# Define an entity for the driver. You can think of entity as a primary key used to\u001b[39;49;00m\n",
      "0017: \u001b[37m# fetch features.\u001b[39;49;00m\n",
      "0018: driver = Entity(name=\u001b[33m\"\u001b[39;49;00m\u001b[33mdriver_id\u001b[39;49;00m\u001b[33m\"\u001b[39;49;00m, value_type=ValueType.INT64, description=\u001b[33m\"\u001b[39;49;00m\u001b[33mdriver id\u001b[39;49;00m\u001b[33m\"\u001b[39;49;00m,)\n",
      "0019: \n",
      "0020: \u001b[37m# Our parquet files contain sample data that includes a driver_id column, timestamps and\u001b[39;49;00m\n",
      "0021: \u001b[37m# three feature column. Here we define a Feature View that will allow us to serve this\u001b[39;49;00m\n",
      "0022: \u001b[37m# data to our model online.\u001b[39;49;00m\n",
      "0023: driver_hourly_stats_view = FeatureView(\n",
      "0024:     name=\u001b[33m\"\u001b[39;49;00m\u001b[33mdriver_hourly_stats\u001b[39;49;00m\u001b[33m\"\u001b[39;49;00m,\n",
      "0025:     entities=[\u001b[33m\"\u001b[39;49;00m\u001b[33mdriver_id\u001b[39;49;00m\u001b[33m\"\u001b[39;49;00m],\n",
      "0026:     ttl=Duration(seconds=\u001b[34m86400\u001b[39;49;00m * \u001b[34m1\u001b[39;49;00m),\n",
      "0027:     features=[\n",
      "0028:         Feature(name=\u001b[33m\"\u001b[39;49;00m\u001b[33mconv_rate\u001b[39;49;00m\u001b[33m\"\u001b[39;49;00m, dtype=ValueType.FLOAT),\n",
      "0029:         Feature(name=\u001b[33m\"\u001b[39;49;00m\u001b[33macc_rate\u001b[39;49;00m\u001b[33m\"\u001b[39;49;00m, dtype=ValueType.FLOAT),\n",
      "0030:         Feature(name=\u001b[33m\"\u001b[39;49;00m\u001b[33mavg_daily_trips\u001b[39;49;00m\u001b[33m\"\u001b[39;49;00m, dtype=ValueType.INT64),\n",
      "0031:     ],\n",
      "0032:     online=\u001b[34mTrue\u001b[39;49;00m,\n",
      "0033:     batch_source=driver_hourly_stats,\n",
      "0034:     tags={},\n",
      "0035: )\n",
      "0036: \n"
     ]
    }
   ],
   "source": [
    "!pygmentize -O full,style=zenburn,linenos=1 example.py"
   ]
  },
  {
   "cell_type": "markdown",
   "id": "0a557c68-a992-455f-b8cb-5910ad181171",
   "metadata": {},
   "source": [
    "#### Feature View ####\n",
    "A feature view is an object that represents a logical group of time-series feature data as it is found in a data source. Feature views consist of one or more entities, features, and a data source. Feature views allow Feast to model your existing feature data in a consistent way in both an offline (training) and online (serving) environment.\n",
    "\n",
    "Codes between 23 and 35 shows how we can define FeatureView\n",
    "\n",
    "Feature views are used during\n",
    "* The generation of training datasets by querying the data source of feature views in order to find historical feature values. A single training dataset may consist of features from multiple feature views.\n",
    "* Loading of feature values into an online store. Feature views determine the storage schema in the online store.\n",
    "* Retrieval of features from the online store. Feature views provide the schema definition to Feast in order to look up features from the online store.\n",
    ">Feast does not generate feature values. It acts as the ingestion and serving system. The data sources described within feature views should reference feature values in their already computed form."
   ]
  },
  {
   "cell_type": "markdown",
   "id": "f801e15a-818b-4035-98ff-2479eb5399f2",
   "metadata": {},
   "source": [
    "#### Feature ####\n",
    "A feature is an individual measurable property observed on an entity. For example, a feature of a customer entity could be the number of transactions they have made on an average month.\n",
    "Features are defined as part of feature views. Since Feast does not transform data, a feature is essentially a schema that only contains a name and a type:\n",
    "\n",
    "You can find declaration of Features in the above codes between 27 and 30.  \n",
    "\n",
    "Together with [data sources](https://docs.feast.dev/getting-started/concepts/data-model-and-concepts/data-source), they indicate to Feast where to find your feature values, e.g., in a specific parquet file or BigQuery table. Feature definitions are also used when reading features from the feature store, using [feature references](https://docs.feast.dev/getting-started/concepts/data-model-and-concepts/feature-retrieval#feature-references).\n",
    "Feature names must be unique within a [feature view](https://docs.feast.dev/getting-started/concepts/data-model-and-concepts/feature-view#feature-view).\n"
   ]
  },
  {
   "cell_type": "markdown",
   "id": "379a2b1e-3e81-4b4f-883d-acd7376c5861",
   "metadata": {},
   "source": [
    "#### Entity\n",
    "An entity is a collection of semantically related features. Users define entities to map to the domain of their use case. Entities are used to identify the primary key on which feature values should be stored and retrieved. These keys are used during the lookup of feature values from the online store and the join process in point-in-time joins. It is possible to define composite entities (more than one entity object) in a feature view.\n",
    "\n",
    "**Entity key** is one or more entity values that uniquely describe a feature view record. This key also consist of multiple entity values.\n",
    "\n",
    "![](https://gblobscdn.gitbook.com/assets%2F-LqPPgcuCulk4PnaI4Ob%2F-MaKa97WKyl0myJs-uLy%2F-MaKdRWc81UMJLidewa6%2Fimage.png?alt=media&token=615cc748-1a26-4643-a92f-669a821d6141)\n",
    "\n",
    "Entity keys act as primary keys. They are used during the lookup of features from the online store, and they are also used to match feature rows across feature views during [point-in-time joins](https://docs.feast.dev/v/v0.6-branch/user-guide/feature-retrieval#point-in-time-correct-join).\n",
    "\n",
    "The line 0018 in the code above show how to create Entity"
   ]
  },
  {
   "cell_type": "code",
   "execution_count": 21,
   "id": "b088104e-6031-483b-ad03-95a0623fc8d1",
   "metadata": {},
   "outputs": [
    {
     "data": {
      "text/html": [
       "<div>\n",
       "<style scoped>\n",
       "    .dataframe tbody tr th:only-of-type {\n",
       "        vertical-align: middle;\n",
       "    }\n",
       "\n",
       "    .dataframe tbody tr th {\n",
       "        vertical-align: top;\n",
       "    }\n",
       "\n",
       "    .dataframe thead th {\n",
       "        text-align: right;\n",
       "    }\n",
       "</style>\n",
       "<table border=\"1\" class=\"dataframe\">\n",
       "  <thead>\n",
       "    <tr style=\"text-align: right;\">\n",
       "      <th></th>\n",
       "      <th>event_timestamp</th>\n",
       "      <th>driver_id</th>\n",
       "      <th>conv_rate</th>\n",
       "      <th>acc_rate</th>\n",
       "      <th>avg_daily_trips</th>\n",
       "      <th>created</th>\n",
       "    </tr>\n",
       "  </thead>\n",
       "  <tbody>\n",
       "    <tr>\n",
       "      <th>0</th>\n",
       "      <td>2021-08-20 04:00:00+00:00</td>\n",
       "      <td>1005</td>\n",
       "      <td>0.108550</td>\n",
       "      <td>0.280793</td>\n",
       "      <td>906</td>\n",
       "      <td>2021-09-04 04:26:19.018</td>\n",
       "    </tr>\n",
       "    <tr>\n",
       "      <th>1</th>\n",
       "      <td>2021-08-20 05:00:00+00:00</td>\n",
       "      <td>1005</td>\n",
       "      <td>0.725994</td>\n",
       "      <td>0.095828</td>\n",
       "      <td>817</td>\n",
       "      <td>2021-09-04 04:26:19.018</td>\n",
       "    </tr>\n",
       "    <tr>\n",
       "      <th>2</th>\n",
       "      <td>2021-08-20 06:00:00+00:00</td>\n",
       "      <td>1005</td>\n",
       "      <td>0.877615</td>\n",
       "      <td>0.904514</td>\n",
       "      <td>580</td>\n",
       "      <td>2021-09-04 04:26:19.018</td>\n",
       "    </tr>\n",
       "    <tr>\n",
       "      <th>3</th>\n",
       "      <td>2021-08-20 07:00:00+00:00</td>\n",
       "      <td>1005</td>\n",
       "      <td>0.457302</td>\n",
       "      <td>0.888655</td>\n",
       "      <td>903</td>\n",
       "      <td>2021-09-04 04:26:19.018</td>\n",
       "    </tr>\n",
       "    <tr>\n",
       "      <th>4</th>\n",
       "      <td>2021-08-20 08:00:00+00:00</td>\n",
       "      <td>1005</td>\n",
       "      <td>0.953363</td>\n",
       "      <td>0.517090</td>\n",
       "      <td>856</td>\n",
       "      <td>2021-09-04 04:26:19.018</td>\n",
       "    </tr>\n",
       "    <tr>\n",
       "      <th>...</th>\n",
       "      <td>...</td>\n",
       "      <td>...</td>\n",
       "      <td>...</td>\n",
       "      <td>...</td>\n",
       "      <td>...</td>\n",
       "      <td>...</td>\n",
       "    </tr>\n",
       "    <tr>\n",
       "      <th>1802</th>\n",
       "      <td>2021-09-04 02:00:00+00:00</td>\n",
       "      <td>1001</td>\n",
       "      <td>0.706308</td>\n",
       "      <td>0.748441</td>\n",
       "      <td>379</td>\n",
       "      <td>2021-09-04 04:26:19.018</td>\n",
       "    </tr>\n",
       "    <tr>\n",
       "      <th>1803</th>\n",
       "      <td>2021-09-04 03:00:00+00:00</td>\n",
       "      <td>1001</td>\n",
       "      <td>0.895251</td>\n",
       "      <td>0.315381</td>\n",
       "      <td>826</td>\n",
       "      <td>2021-09-04 04:26:19.018</td>\n",
       "    </tr>\n",
       "    <tr>\n",
       "      <th>1804</th>\n",
       "      <td>2021-04-12 07:00:00+00:00</td>\n",
       "      <td>1001</td>\n",
       "      <td>0.678634</td>\n",
       "      <td>0.704390</td>\n",
       "      <td>956</td>\n",
       "      <td>2021-09-04 04:26:19.018</td>\n",
       "    </tr>\n",
       "    <tr>\n",
       "      <th>1805</th>\n",
       "      <td>2021-08-27 16:00:00+00:00</td>\n",
       "      <td>1003</td>\n",
       "      <td>0.953687</td>\n",
       "      <td>0.409890</td>\n",
       "      <td>213</td>\n",
       "      <td>2021-09-04 04:26:19.018</td>\n",
       "    </tr>\n",
       "    <tr>\n",
       "      <th>1806</th>\n",
       "      <td>2021-08-27 16:00:00+00:00</td>\n",
       "      <td>1003</td>\n",
       "      <td>0.953687</td>\n",
       "      <td>0.409890</td>\n",
       "      <td>213</td>\n",
       "      <td>2021-09-04 04:26:19.018</td>\n",
       "    </tr>\n",
       "  </tbody>\n",
       "</table>\n",
       "<p>1807 rows × 6 columns</p>\n",
       "</div>"
      ],
      "text/plain": [
       "               event_timestamp  driver_id  conv_rate  acc_rate  \\\n",
       "0    2021-08-20 04:00:00+00:00       1005   0.108550  0.280793   \n",
       "1    2021-08-20 05:00:00+00:00       1005   0.725994  0.095828   \n",
       "2    2021-08-20 06:00:00+00:00       1005   0.877615  0.904514   \n",
       "3    2021-08-20 07:00:00+00:00       1005   0.457302  0.888655   \n",
       "4    2021-08-20 08:00:00+00:00       1005   0.953363  0.517090   \n",
       "...                        ...        ...        ...       ...   \n",
       "1802 2021-09-04 02:00:00+00:00       1001   0.706308  0.748441   \n",
       "1803 2021-09-04 03:00:00+00:00       1001   0.895251  0.315381   \n",
       "1804 2021-04-12 07:00:00+00:00       1001   0.678634  0.704390   \n",
       "1805 2021-08-27 16:00:00+00:00       1003   0.953687  0.409890   \n",
       "1806 2021-08-27 16:00:00+00:00       1003   0.953687  0.409890   \n",
       "\n",
       "      avg_daily_trips                 created  \n",
       "0                 906 2021-09-04 04:26:19.018  \n",
       "1                 817 2021-09-04 04:26:19.018  \n",
       "2                 580 2021-09-04 04:26:19.018  \n",
       "3                 903 2021-09-04 04:26:19.018  \n",
       "4                 856 2021-09-04 04:26:19.018  \n",
       "...               ...                     ...  \n",
       "1802              379 2021-09-04 04:26:19.018  \n",
       "1803              826 2021-09-04 04:26:19.018  \n",
       "1804              956 2021-09-04 04:26:19.018  \n",
       "1805              213 2021-09-04 04:26:19.018  \n",
       "1806              213 2021-09-04 04:26:19.018  \n",
       "\n",
       "[1807 rows x 6 columns]"
      ]
     },
     "execution_count": 21,
     "metadata": {},
     "output_type": "execute_result"
    }
   ],
   "source": [
    "import pandas as pd\n",
    "table = pd.read_parquet(\"data/driver_stats.parquet\")\n",
    "table"
   ]
  },
  {
   "cell_type": "markdown",
   "id": "91ec1e47-9271-4704-a5e7-26804d8d4d2d",
   "metadata": {},
   "source": [
    "#### Data Source\n",
    "The data source **refers to raw underlying data (e.g. a table in BigQuery)**.\n",
    "Feast uses a time-series data model to represent data. This data model is used to interpret feature data in data sources in order to build training datasets or when materializing features into an online store.\n",
    "\n",
    "![](https://gblobscdn.gitbook.com/assets%2F-LqPPgcuCulk4PnaI4Ob%2F-MaKKN_g2YldHEVf-XmU%2F-MaKSgD8bNlCMB-D9YZ2%2Fimage.png?alt=media&token=833eebaa-c16a-42d6-8286-516057f5d540)"
   ]
  },
  {
   "cell_type": "code",
   "execution_count": null,
   "id": "1ae4c066-78a8-4e77-9f61-f3493f8ca4e0",
   "metadata": {},
   "outputs": [],
   "source": []
  }
 ],
 "metadata": {
  "kernelspec": {
   "display_name": "Feast Env",
   "language": "python",
   "name": "feast-conda-env"
  },
  "language_info": {
   "codemirror_mode": {
    "name": "ipython",
    "version": 3
   },
   "file_extension": ".py",
   "mimetype": "text/x-python",
   "name": "python",
   "nbconvert_exporter": "python",
   "pygments_lexer": "ipython3",
   "version": "3.9.7"
  }
 },
 "nbformat": 4,
 "nbformat_minor": 5
}
