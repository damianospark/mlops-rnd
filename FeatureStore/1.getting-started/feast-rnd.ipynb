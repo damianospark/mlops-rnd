{
 "cells": [
  {
   "cell_type": "markdown",
   "id": "1c168f62-a7fd-4fd6-9fd8-f240757359bf",
   "metadata": {},
   "source": [
    "# A. Setup environment with Feast Installation"
   ]
  },
  {
   "cell_type": "markdown",
   "id": "8cf658a1-5eaf-4c4f-8d49-887510b36000",
   "metadata": {},
   "source": [
    "Before execute next cell you should run a command in a terminal as follows\n",
    "\n",
    "`$ source /workspace/FeatureStore/install-venv.sh`\n",
    "\n",
    "Change kernel to \"Py3.7 (Feast)\" and run cells orderly as below "
   ]
  },
  {
   "cell_type": "code",
   "execution_count": 2,
   "id": "e4eb1484-db5a-4b77-ad86-1bd1bd65d370",
   "metadata": {},
   "outputs": [
    {
     "name": "stdout",
     "output_type": "stream",
     "text": [
      "\u001b[37m#!/bin/bash\u001b[39;49;00m\n",
      "\u001b[37m# to influence current shell execute this script with source\u001b[39;49;00m\n",
      "\u001b[37m# $ source install-venv.sh\u001b[39;49;00m\n",
      "\n",
      "\n",
      "\u001b[37m# yes | jupyter kernelspec remove\u001b[39;49;00m\n",
      "\n",
      "conda init --all\n",
      "conda deactivate\n",
      "conda create -n feast-conda-env \u001b[31mpython\u001b[39;49;00m=\u001b[34m3\u001b[39;49;00m.7\n",
      "conda env list\n",
      "conda activate feast-conda-env\n",
      "yes | conda install pip ipykernel\n",
      "python -m ipykernel install --user --name feast-conda-env --display-name \u001b[33m\"Py3.7 (Feast)\"\u001b[39;49;00m\n",
      "jupyter kernelspec list\n",
      "conda env list\n",
      "ls /opt/conda/envs/feast-conda-env\n",
      "\n",
      "\u001b[37m# pip uninstall luigi\u001b[39;49;00m\n",
      "pip install feast[gcp] Pygments -U\n"
     ]
    }
   ],
   "source": [
    "!pygmentize /workspace/FeatureStore/install-venv.sh"
   ]
  },
  {
   "cell_type": "markdown",
   "id": "299dfd7e-a40b-4195-826e-b3a9245e5eda",
   "metadata": {},
   "source": [
    "# B. Create a feature repository\n",
    "A feature repository consists of:\n",
    "  * A collection of Python files containing feature declarations.\n",
    "  * A feature_store.yaml file containing infrastructural configuration.\n",
    "  * A .feastignore file containing paths in the feature repository to ignore.\n",
    "\n",
    "Typically, users store their feature repositories in a Git repository, especially when working in teams. However, using Git is not a requirement.\n",
    "\n",
    "## Initialize repo"
   ]
  },
  {
   "cell_type": "code",
   "execution_count": 2,
   "id": "9cedd48c-f153-4118-97e4-62ea4e991177",
   "metadata": {},
   "outputs": [
    {
     "name": "stdout",
     "output_type": "stream",
     "text": [
      "Feast is an open source project that collects anonymized error reporting and usage statistics. To opt out or learn more see https://docs.feast.dev/reference/usage\n",
      "\n",
      "Creating a new Feast repository in \u001b[1m\u001b[32m/workspace/FeatureStore/1.getting-started/feature_repo\u001b[0m.\n",
      "\n"
     ]
    }
   ],
   "source": [
    "!./run-venv.sh feast-conda-env \\\n",
    " feast init feature_repo\n"
   ]
  },
  {
   "cell_type": "markdown",
   "id": "57d679a7-ab0e-4fd7-b0b2-b5538085f15c",
   "metadata": {},
   "source": [
    "#### feast init result ####"
   ]
  },
  {
   "cell_type": "code",
   "execution_count": 19,
   "id": "fdd291d1-d400-45d1-ae0f-a77b6c4931bf",
   "metadata": {},
   "outputs": [
    {
     "name": "stdout",
     "output_type": "stream",
     "text": [
      "/workspace/FeatureStore/1.getting-started/feature_repo\n",
      "\u001b[01;34m.\u001b[00m\n",
      "├── \u001b[01;34mdata\u001b[00m\n",
      "│   └── driver_stats.parquet\n",
      "├── example.py\n",
      "└── feature_store.yaml\n",
      "\n",
      "1 directory, 3 files\n"
     ]
    }
   ],
   "source": [
    "%cd feature_repo\n",
    "!tree -a"
   ]
  },
  {
   "cell_type": "markdown",
   "id": "ea6aad09-96b5-4cb0-a7ed-748391deb855",
   "metadata": {},
   "source": [
    "## Generated files (Most important)\n",
    "### 1. The **feature_store.yaml** configuration file :\n",
    "`feast init` generates example configuration files. You should modify them for your development requirements and execute `feast apply` and `feast metirialize` in the end\n",
    "\n",
    "The configuration for a feature store is stored in a file named feature_store.yaml , which must be located at the root of a feature repository. This tutorial is from [Feas official site](https://docs.feast.dev) and it is only on online store. The feature_store.yaml file in the feature_repo folder is shown below:\n"
   ]
  },
  {
   "cell_type": "code",
   "execution_count": 12,
   "id": "70edb7e2-43d6-43b5-ad22-42ef2c00e1fa",
   "metadata": {},
   "outputs": [
    {
     "name": "stdout",
     "output_type": "stream",
     "text": [
      "\u001b[94mproject\u001b[39;49;00m: feature_repo\n",
      "\u001b[94mregistry\u001b[39;49;00m: data/registry.db\n",
      "\u001b[94mprovider\u001b[39;49;00m: local\n",
      "\u001b[94monline_store\u001b[39;49;00m:\n",
      "    \u001b[94mpath\u001b[39;49;00m: data/online_store.db\n"
     ]
    }
   ],
   "source": [
    "!pygmentize feature_store.yaml"
   ]
  },
  {
   "cell_type": "markdown",
   "id": "af440b48-ca78-4619-bafe-55b566141042",
   "metadata": {},
   "source": [
    "**provider** defines where the raw data exists (for generating training data & feature values for serving), and where to materialize feature values to in the online store (for serving).\n",
    "* local: use file source / SQLite\n",
    "* gcp: use BigQuery / Google Cloud Datastore\n",
    "* aws: use Redshift / DynamoDB\n",
    "\n",
    "Below is the example of the configuration when GCP is the platform to operate feast\n",
    "```yaml\n",
    "project: my_feature_repo\n",
    "registry: gs://my-bucket/data/registry.db\n",
    "provider: gcp\n",
    "offline_store:\n",
    "  type: bigquery\n",
    "  dataset: feast_bq_dataset\n",
    "```\n",
    "<br/>\n",
    "\n",
    "In AWS, the configuration goes like this. Tecton team seems to actively update for AWS version. \n",
    "```yaml\n",
    "project: my_feature_repo\n",
    "registry: data/registry.db\n",
    "provider: aws\n",
    "offline_store:\n",
    "  type: redshift\n",
    "  region: us-west-2\n",
    "  cluster_id: feast-cluster\n",
    "  database: feast-database\n",
    "  user: redshift-user\n",
    "  s3_staging_location: s3://feast-bucket/redshift\n",
    "  iam_role: arn:aws:iam::123456789012:role/redshift_s3_access_role\n",
    "```"
   ]
  },
  {
   "cell_type": "markdown",
   "id": "6ed68d1f-39c9-4817-bae7-32cb33f81c4b",
   "metadata": {},
   "source": [
    "### 2. The **.feastignore** file : \n",
    "This file should be created to stop feast execute irrelevant files for feast operation since feast executes all python file under repo folder recursively. This file contains paths that should be ignored when running feast apply. An example .feastignore is shown below:\n",
    "\n",
    "```\n",
    ".feastignore\n",
    "# Ignore virtual environment\n",
    "venv\n",
    "​\n",
    "# Ignore a specific Python file\n",
    "scripts/foo.py\n",
    "​\n",
    "# Ignore all Python files directly under scripts directory\n",
    "scripts/*.py\n",
    "​\n",
    "# Ignore all \"foo.py\" anywhere under scripts directory\n",
    "scripts/**/foo.py\n",
    "```"
   ]
  },
  {
   "cell_type": "markdown",
   "id": "5632c620-b343-4964-bf8b-bcc2b9e36454",
   "metadata": {},
   "source": [
    "### 3. **Feature definitions** : \n",
    "A feature repository can also contain one or more Python files that contain feature definitions. An example feature definition file is shown below:"
   ]
  },
  {
   "cell_type": "markdown",
   "id": "c805fa67-cf96-4a7d-8a2f-dd78ef35c3b0",
   "metadata": {},
   "source": [
    "Each project should be considered a completely separate universe of entities and features. It is not possible to retrieve features from multiple projects in a single request. Feastn team recommends having a single feature store and a single project per environment (dev, staging, prod) in their [\"Concepts\" page](https://docs.feast.dev/getting-started/concepts).\n",
    "![](https://gblobscdn.gitbook.com/assets%2F-LqPPgcuCulk4PnaI4Ob%2F-MaKKN_g2YldHEVf-XmU%2F-MaKTnYQG9kFhl8yPNTM%2Fimage.png?alt=media&token=1db54ccd-cb92-4239-b4a9-2db77d4ff626)"
   ]
  },
  {
   "cell_type": "code",
   "execution_count": 29,
   "id": "fd0d640d-e324-4a14-b84b-9041071ae3ef",
   "metadata": {},
   "outputs": [
    {
     "name": "stdout",
     "output_type": "stream",
     "text": [
      "0001: \u001b[37m# This is an example feature definition file\u001b[39;49;00m\n",
      "0002: \n",
      "0003: \u001b[34mfrom\u001b[39;49;00m \u001b[04m\u001b[36mgoogle\u001b[39;49;00m\u001b[04m\u001b[36m.\u001b[39;49;00m\u001b[04m\u001b[36mprotobuf\u001b[39;49;00m\u001b[04m\u001b[36m.\u001b[39;49;00m\u001b[04m\u001b[36mduration_pb2\u001b[39;49;00m \u001b[34mimport\u001b[39;49;00m Duration\n",
      "0004: \n",
      "0005: \u001b[34mfrom\u001b[39;49;00m \u001b[04m\u001b[36mfeast\u001b[39;49;00m \u001b[34mimport\u001b[39;49;00m Entity, Feature, FeatureView, FileSource, ValueType\n",
      "0006: \n",
      "0007: \u001b[37m# Read data from parquet files. Parquet is convenient for local development mode. For\u001b[39;49;00m\n",
      "0008: \u001b[37m# production, you can use your favorite DWH, such as BigQuery. See Feast documentation\u001b[39;49;00m\n",
      "0009: \u001b[37m# for more info.\u001b[39;49;00m\n",
      "0010: driver_hourly_stats = FileSource(\n",
      "0011:     path=\u001b[33m\"\u001b[39;49;00m\u001b[33m/workspace/FeatureStore/1.getting-started/feature_repo/data/driver_stats.parquet\u001b[39;49;00m\u001b[33m\"\u001b[39;49;00m,\n",
      "0012:     event_timestamp_column=\u001b[33m\"\u001b[39;49;00m\u001b[33mevent_timestamp\u001b[39;49;00m\u001b[33m\"\u001b[39;49;00m,\n",
      "0013:     created_timestamp_column=\u001b[33m\"\u001b[39;49;00m\u001b[33mcreated\u001b[39;49;00m\u001b[33m\"\u001b[39;49;00m,\n",
      "0014: )\n",
      "0015: \n",
      "0016: \u001b[37m# Define an entity for the driver. You can think of entity as a primary key used to\u001b[39;49;00m\n",
      "0017: \u001b[37m# fetch features.\u001b[39;49;00m\n",
      "0018: driver = Entity(name=\u001b[33m\"\u001b[39;49;00m\u001b[33mdriver_id\u001b[39;49;00m\u001b[33m\"\u001b[39;49;00m, value_type=ValueType.INT64, description=\u001b[33m\"\u001b[39;49;00m\u001b[33mdriver id\u001b[39;49;00m\u001b[33m\"\u001b[39;49;00m,)\n",
      "0019: \n",
      "0020: \u001b[37m# Our parquet files contain sample data that includes a driver_id column, timestamps and\u001b[39;49;00m\n",
      "0021: \u001b[37m# three feature column. Here we define a Feature View that will allow us to serve this\u001b[39;49;00m\n",
      "0022: \u001b[37m# data to our model online.\u001b[39;49;00m\n",
      "0023: driver_hourly_stats_view = FeatureView(\n",
      "0024:     name=\u001b[33m\"\u001b[39;49;00m\u001b[33mdriver_hourly_stats\u001b[39;49;00m\u001b[33m\"\u001b[39;49;00m,\n",
      "0025:     entities=[\u001b[33m\"\u001b[39;49;00m\u001b[33mdriver_id\u001b[39;49;00m\u001b[33m\"\u001b[39;49;00m],\n",
      "0026:     ttl=Duration(seconds=\u001b[34m86400\u001b[39;49;00m * \u001b[34m1\u001b[39;49;00m),\n",
      "0027:     features=[\n",
      "0028:         Feature(name=\u001b[33m\"\u001b[39;49;00m\u001b[33mconv_rate\u001b[39;49;00m\u001b[33m\"\u001b[39;49;00m, dtype=ValueType.FLOAT),\n",
      "0029:         Feature(name=\u001b[33m\"\u001b[39;49;00m\u001b[33macc_rate\u001b[39;49;00m\u001b[33m\"\u001b[39;49;00m, dtype=ValueType.FLOAT),\n",
      "0030:         Feature(name=\u001b[33m\"\u001b[39;49;00m\u001b[33mavg_daily_trips\u001b[39;49;00m\u001b[33m\"\u001b[39;49;00m, dtype=ValueType.INT64),\n",
      "0031:     ],\n",
      "0032:     online=\u001b[34mTrue\u001b[39;49;00m,\n",
      "0033:     batch_source=driver_hourly_stats,\n",
      "0034:     tags={},\n",
      "0035: )\n",
      "0036: \n"
     ]
    }
   ],
   "source": [
    "!pygmentize -O full,style=zenburn,linenos=1 example.py"
   ]
  },
  {
   "cell_type": "markdown",
   "id": "0a557c68-a992-455f-b8cb-5910ad181171",
   "metadata": {},
   "source": [
    "#### Feature View ####\n",
    "A feature view is an object that represents a logical group of time-series feature data as it is found in a data source. Feature views consist of one or more entities, features, and a data source. Feature views allow Feast to model your existing feature data in a consistent way in both an offline (training) and online (serving) environment.\n",
    "\n",
    "Codes between 23 and 35 shows how we can define FeatureView\n",
    "\n",
    "Feature views are used during\n",
    "* The generation of training datasets by querying the data source of feature views in order to find historical feature values. A single training dataset may consist of features from multiple feature views.\n",
    "* Loading of feature values into an online store. Feature views determine the storage schema in the online store.\n",
    "* Retrieval of features from the online store. Feature views provide the schema definition to Feast in order to look up features from the online store.\n",
    ">Feast does not generate feature values. It acts as the ingestion and serving system. The data sources described within feature views should reference feature values in their already computed form."
   ]
  },
  {
   "cell_type": "markdown",
   "id": "f801e15a-818b-4035-98ff-2479eb5399f2",
   "metadata": {},
   "source": [
    "#### Feature ####\n",
    "A feature is an individual measurable property observed on an entity. For example, a feature of a customer entity could be the number of transactions they have made on an average month.\n",
    "Features are defined as part of feature views. Since Feast does not transform data, a feature is essentially a schema that only contains a name and a type:\n",
    "\n",
    "You can find declaration of Features in the above codes between 27 and 30.  \n",
    "\n",
    "Together with [data sources](https://docs.feast.dev/getting-started/concepts/data-model-and-concepts/data-source), they indicate to Feast where to find your feature values, e.g., in a specific parquet file or BigQuery table. Feature definitions are also used when reading features from the feature store, using [feature references](https://docs.feast.dev/getting-started/concepts/data-model-and-concepts/feature-retrieval#feature-references).\n",
    "Feature names must be unique within a [feature view](https://docs.feast.dev/getting-started/concepts/data-model-and-concepts/feature-view#feature-view).\n"
   ]
  },
  {
   "cell_type": "markdown",
   "id": "379a2b1e-3e81-4b4f-883d-acd7376c5861",
   "metadata": {},
   "source": [
    "#### Entity\n",
    "An entity is a collection of semantically related features. Users define entities to map to the domain of their use case. Entities are used to identify the primary key on which feature values should be stored and retrieved. These keys are used during the lookup of feature values from the online store and the join process in point-in-time joins. It is possible to define composite entities (more than one entity object) in a feature view.\n",
    "\n",
    "**Entity key** is one or more entity values that uniquely describe a feature view record. This key also consist of multiple entity values. This needs to be test in the future since there are no officially released tutorials or examples being able to experience multiple-entity-value entity key. You only can one value entity key even if Feast team published three examples in their official web site such as [Driver Ranking Example](https://docs.feast.dev/tutorials/driver-ranking-with-feast#driver-ranking-example), [Fraud detection on GCP](https://docs.feast.dev/tutorials/fraud-detection#fraud-detection-example), [Real-time Credit Scoring Example](https://docs.feast.dev/tutorials/real-time-credit-scoring-on-aws#real-time-credit-scoring-example)\n",
    "\n",
    "![](https://gblobscdn.gitbook.com/assets%2F-LqPPgcuCulk4PnaI4Ob%2F-MaKa97WKyl0myJs-uLy%2F-MaKdRWc81UMJLidewa6%2Fimage.png?alt=media&token=615cc748-1a26-4643-a92f-669a821d6141)\n",
    "\n",
    "Entity keys act as primary keys. They are used during the lookup of features from the online store, and they are also used to match feature rows across feature views during [point-in-time joins](https://docs.feast.dev/v/v0.6-branch/user-guide/feature-retrieval#point-in-time-correct-join).\n",
    "\n",
    "The line 0018 in the code above shows how to create Entity"
   ]
  },
  {
   "cell_type": "code",
   "execution_count": 21,
   "id": "b088104e-6031-483b-ad03-95a0623fc8d1",
   "metadata": {
    "tags": []
   },
   "outputs": [
    {
     "data": {
      "text/html": [
       "<div>\n",
       "<style scoped>\n",
       "    .dataframe tbody tr th:only-of-type {\n",
       "        vertical-align: middle;\n",
       "    }\n",
       "\n",
       "    .dataframe tbody tr th {\n",
       "        vertical-align: top;\n",
       "    }\n",
       "\n",
       "    .dataframe thead th {\n",
       "        text-align: right;\n",
       "    }\n",
       "</style>\n",
       "<table border=\"1\" class=\"dataframe\">\n",
       "  <thead>\n",
       "    <tr style=\"text-align: right;\">\n",
       "      <th></th>\n",
       "      <th>event_timestamp</th>\n",
       "      <th>driver_id</th>\n",
       "      <th>conv_rate</th>\n",
       "      <th>acc_rate</th>\n",
       "      <th>avg_daily_trips</th>\n",
       "      <th>created</th>\n",
       "    </tr>\n",
       "  </thead>\n",
       "  <tbody>\n",
       "    <tr>\n",
       "      <th>0</th>\n",
       "      <td>2021-08-20 04:00:00+00:00</td>\n",
       "      <td>1005</td>\n",
       "      <td>0.108550</td>\n",
       "      <td>0.280793</td>\n",
       "      <td>906</td>\n",
       "      <td>2021-09-04 04:26:19.018</td>\n",
       "    </tr>\n",
       "    <tr>\n",
       "      <th>1</th>\n",
       "      <td>2021-08-20 05:00:00+00:00</td>\n",
       "      <td>1005</td>\n",
       "      <td>0.725994</td>\n",
       "      <td>0.095828</td>\n",
       "      <td>817</td>\n",
       "      <td>2021-09-04 04:26:19.018</td>\n",
       "    </tr>\n",
       "    <tr>\n",
       "      <th>2</th>\n",
       "      <td>2021-08-20 06:00:00+00:00</td>\n",
       "      <td>1005</td>\n",
       "      <td>0.877615</td>\n",
       "      <td>0.904514</td>\n",
       "      <td>580</td>\n",
       "      <td>2021-09-04 04:26:19.018</td>\n",
       "    </tr>\n",
       "    <tr>\n",
       "      <th>3</th>\n",
       "      <td>2021-08-20 07:00:00+00:00</td>\n",
       "      <td>1005</td>\n",
       "      <td>0.457302</td>\n",
       "      <td>0.888655</td>\n",
       "      <td>903</td>\n",
       "      <td>2021-09-04 04:26:19.018</td>\n",
       "    </tr>\n",
       "    <tr>\n",
       "      <th>4</th>\n",
       "      <td>2021-08-20 08:00:00+00:00</td>\n",
       "      <td>1005</td>\n",
       "      <td>0.953363</td>\n",
       "      <td>0.517090</td>\n",
       "      <td>856</td>\n",
       "      <td>2021-09-04 04:26:19.018</td>\n",
       "    </tr>\n",
       "    <tr>\n",
       "      <th>...</th>\n",
       "      <td>...</td>\n",
       "      <td>...</td>\n",
       "      <td>...</td>\n",
       "      <td>...</td>\n",
       "      <td>...</td>\n",
       "      <td>...</td>\n",
       "    </tr>\n",
       "    <tr>\n",
       "      <th>1802</th>\n",
       "      <td>2021-09-04 02:00:00+00:00</td>\n",
       "      <td>1001</td>\n",
       "      <td>0.706308</td>\n",
       "      <td>0.748441</td>\n",
       "      <td>379</td>\n",
       "      <td>2021-09-04 04:26:19.018</td>\n",
       "    </tr>\n",
       "    <tr>\n",
       "      <th>1803</th>\n",
       "      <td>2021-09-04 03:00:00+00:00</td>\n",
       "      <td>1001</td>\n",
       "      <td>0.895251</td>\n",
       "      <td>0.315381</td>\n",
       "      <td>826</td>\n",
       "      <td>2021-09-04 04:26:19.018</td>\n",
       "    </tr>\n",
       "    <tr>\n",
       "      <th>1804</th>\n",
       "      <td>2021-04-12 07:00:00+00:00</td>\n",
       "      <td>1001</td>\n",
       "      <td>0.678634</td>\n",
       "      <td>0.704390</td>\n",
       "      <td>956</td>\n",
       "      <td>2021-09-04 04:26:19.018</td>\n",
       "    </tr>\n",
       "    <tr>\n",
       "      <th>1805</th>\n",
       "      <td>2021-08-27 16:00:00+00:00</td>\n",
       "      <td>1003</td>\n",
       "      <td>0.953687</td>\n",
       "      <td>0.409890</td>\n",
       "      <td>213</td>\n",
       "      <td>2021-09-04 04:26:19.018</td>\n",
       "    </tr>\n",
       "    <tr>\n",
       "      <th>1806</th>\n",
       "      <td>2021-08-27 16:00:00+00:00</td>\n",
       "      <td>1003</td>\n",
       "      <td>0.953687</td>\n",
       "      <td>0.409890</td>\n",
       "      <td>213</td>\n",
       "      <td>2021-09-04 04:26:19.018</td>\n",
       "    </tr>\n",
       "  </tbody>\n",
       "</table>\n",
       "<p>1807 rows × 6 columns</p>\n",
       "</div>"
      ],
      "text/plain": [
       "               event_timestamp  driver_id  conv_rate  acc_rate  \\\n",
       "0    2021-08-20 04:00:00+00:00       1005   0.108550  0.280793   \n",
       "1    2021-08-20 05:00:00+00:00       1005   0.725994  0.095828   \n",
       "2    2021-08-20 06:00:00+00:00       1005   0.877615  0.904514   \n",
       "3    2021-08-20 07:00:00+00:00       1005   0.457302  0.888655   \n",
       "4    2021-08-20 08:00:00+00:00       1005   0.953363  0.517090   \n",
       "...                        ...        ...        ...       ...   \n",
       "1802 2021-09-04 02:00:00+00:00       1001   0.706308  0.748441   \n",
       "1803 2021-09-04 03:00:00+00:00       1001   0.895251  0.315381   \n",
       "1804 2021-04-12 07:00:00+00:00       1001   0.678634  0.704390   \n",
       "1805 2021-08-27 16:00:00+00:00       1003   0.953687  0.409890   \n",
       "1806 2021-08-27 16:00:00+00:00       1003   0.953687  0.409890   \n",
       "\n",
       "      avg_daily_trips                 created  \n",
       "0                 906 2021-09-04 04:26:19.018  \n",
       "1                 817 2021-09-04 04:26:19.018  \n",
       "2                 580 2021-09-04 04:26:19.018  \n",
       "3                 903 2021-09-04 04:26:19.018  \n",
       "4                 856 2021-09-04 04:26:19.018  \n",
       "...               ...                     ...  \n",
       "1802              379 2021-09-04 04:26:19.018  \n",
       "1803              826 2021-09-04 04:26:19.018  \n",
       "1804              956 2021-09-04 04:26:19.018  \n",
       "1805              213 2021-09-04 04:26:19.018  \n",
       "1806              213 2021-09-04 04:26:19.018  \n",
       "\n",
       "[1807 rows x 6 columns]"
      ]
     },
     "execution_count": 21,
     "metadata": {},
     "output_type": "execute_result"
    }
   ],
   "source": [
    "import pandas as pd\n",
    "table = pd.read_parquet(\"data/driver_stats.parquet\")\n",
    "table"
   ]
  },
  {
   "cell_type": "markdown",
   "id": "91ec1e47-9271-4704-a5e7-26804d8d4d2d",
   "metadata": {},
   "source": [
    "#### Data Source\n",
    "The data source **refers to raw underlying data (e.g. a table in BigQuery)**.\n",
    "Feast uses a time-series data model to represent data. This data model is used to interpret feature data in data sources in order to build training datasets or when materializing features into an online store.\n",
    "\n",
    "![](https://gblobscdn.gitbook.com/assets%2F-LqPPgcuCulk4PnaI4Ob%2F-MaKKN_g2YldHEVf-XmU%2F-MaKSgD8bNlCMB-D9YZ2%2Fimage.png?alt=media&token=833eebaa-c16a-42d6-8286-516057f5d540)"
   ]
  },
  {
   "cell_type": "markdown",
   "id": "d4f22a42-7631-42a2-aada-72313a8c58c8",
   "metadata": {},
   "source": [
    "# C. Register feature definitions and deploy feature store"
   ]
  },
  {
   "cell_type": "code",
   "execution_count": 33,
   "id": "6d0784e7-038b-4d2a-a859-645bf1654c37",
   "metadata": {},
   "outputs": [
    {
     "name": "stdout",
     "output_type": "stream",
     "text": [
      "/workspace/FeatureStore/1.getting-started/feature_repo\n"
     ]
    }
   ],
   "source": [
    "!pwd"
   ]
  },
  {
   "cell_type": "code",
   "execution_count": 35,
   "id": "f2ba9749-1e0f-40af-9b66-e9a903fb73a0",
   "metadata": {},
   "outputs": [
    {
     "name": "stdout",
     "output_type": "stream",
     "text": [
      "Registered entity \u001b[1m\u001b[32mdriver_id\u001b[0m\n",
      "Registered feature view \u001b[1m\u001b[32mdriver_hourly_stats\u001b[0m\n",
      "Deploying infrastructure for \u001b[1m\u001b[32mdriver_hourly_stats\u001b[0m\n"
     ]
    }
   ],
   "source": [
    "!../run-venv.sh feast-conda-env \\\n",
    " feast apply\n"
   ]
  },
  {
   "cell_type": "markdown",
   "id": "9cab5feb-9269-4f0a-b266-cb43657fefab",
   "metadata": {},
   "source": [
    "The **feast apply** command scans python files in the current directory for feature view/entity definitions, registers the objects, and deploys infrastructure. In this example, it reads example.py (showned above) and sets up SQLite online store tables. Note that we had specified SQLite as the default online store by using the local provider in feature_store.yaml."
   ]
  },
  {
   "cell_type": "markdown",
   "id": "4382f2cf-fd75-485e-9727-fea02adfb87d",
   "metadata": {},
   "source": [
    "#### feast apply result"
   ]
  },
  {
   "cell_type": "code",
   "execution_count": 37,
   "id": "17f88875-ef63-4dd9-96a3-d8adaba41abe",
   "metadata": {
    "tags": []
   },
   "outputs": [
    {
     "name": "stdout",
     "output_type": "stream",
     "text": [
      "\u001b[01;34m.\u001b[00m\n",
      "├── example.py\n",
      "├── feature_store.yaml\n",
      "└── \u001b[01;34mdata\u001b[00m\n",
      "    ├── driver_stats.parquet\n",
      "    ├── online_store.db\n",
      "    └── registry.db\n",
      "\n",
      "1 directory, 5 files\n"
     ]
    }
   ],
   "source": [
    "!tree -a -c"
   ]
  },
  {
   "cell_type": "markdown",
   "id": "6c396e25-4aeb-4d7c-b80b-53caa5946dbf",
   "metadata": {},
   "source": [
    "You can find differences in the tree results between \"feast init\" and \"feast apply\". Two *.db files are generated after executing \"feast apply\" which are online_store.db and registry.db. The online_store.db is a SQLite database file, on the other hand, registry.db is not."
   ]
  },
  {
   "cell_type": "markdown",
   "id": "706b3329-681b-4783-94bf-79e38c468918",
   "metadata": {},
   "source": [
    "#### db file check"
   ]
  },
  {
   "cell_type": "code",
   "execution_count": 40,
   "id": "0c4e9666-6485-4034-a97c-a941715aa667",
   "metadata": {},
   "outputs": [
    {
     "data": {
      "text/plain": [
       "[('feature_repo_driver_hourly_stats',)]"
      ]
     },
     "execution_count": 40,
     "metadata": {},
     "output_type": "execute_result"
    }
   ],
   "source": [
    "import sqlite3\n",
    "# conn = sqlite3.connect('data/online_store.db')\n",
    "conn = sqlite3.connect('file:data/online_store.db?mode=ro', uri=True)\n",
    "curs = conn.cursor()\n",
    "curs.execute(\"SELECT name FROM sqlite_master WHERE type = 'table'\").fetchall()\n"
   ]
  },
  {
   "cell_type": "code",
   "execution_count": 43,
   "id": "c6e546a2-4647-4c86-a7a6-270d532c7d08",
   "metadata": {},
   "outputs": [
    {
     "name": "stdout",
     "output_type": "stream",
     "text": [
      "(0, 'entity_key', 'BLOB', 0, None, 1)\n",
      "(1, 'feature_name', 'TEXT', 0, None, 2)\n",
      "(2, 'value', 'BLOB', 0, None, 0)\n",
      "(3, 'event_ts', 'timestamp', 0, None, 0)\n",
      "(4, 'created_ts', 'timestamp', 0, None, 0)\n"
     ]
    }
   ],
   "source": [
    "for row in curs.execute(\"PRAGMA table_info(feature_repo_driver_hourly_stats)\"):\n",
    "    print(row)"
   ]
  },
  {
   "cell_type": "code",
   "execution_count": 44,
   "id": "72cda41e-bdd3-4995-92b5-9f87e4ad5d40",
   "metadata": {},
   "outputs": [
    {
     "data": {
      "text/plain": [
       "[]"
      ]
     },
     "execution_count": 44,
     "metadata": {},
     "output_type": "execute_result"
    }
   ],
   "source": [
    "curs.execute(\"SELECT * from feature_repo_driver_hourly_stats\").fetchall()\n"
   ]
  },
  {
   "cell_type": "code",
   "execution_count": 45,
   "id": "0d9c7925-f4c7-4adf-b0ce-5763bfeae800",
   "metadata": {},
   "outputs": [
    {
     "ename": "DatabaseError",
     "evalue": "file is not a database",
     "output_type": "error",
     "traceback": [
      "\u001b[0;31m---------------------------------------------------------------------------\u001b[0m",
      "\u001b[0;31mDatabaseError\u001b[0m                             Traceback (most recent call last)",
      "\u001b[0;32m/tmp/ipykernel_1462/691158706.py\u001b[0m in \u001b[0;36m<module>\u001b[0;34m\u001b[0m\n\u001b[1;32m      3\u001b[0m \u001b[0mconn\u001b[0m \u001b[0;34m=\u001b[0m \u001b[0msqlite3\u001b[0m\u001b[0;34m.\u001b[0m\u001b[0mconnect\u001b[0m\u001b[0;34m(\u001b[0m\u001b[0;34m'file:data/registry.db?mode=ro'\u001b[0m\u001b[0;34m,\u001b[0m \u001b[0muri\u001b[0m\u001b[0;34m=\u001b[0m\u001b[0;32mTrue\u001b[0m\u001b[0;34m)\u001b[0m\u001b[0;34m\u001b[0m\u001b[0;34m\u001b[0m\u001b[0m\n\u001b[1;32m      4\u001b[0m \u001b[0mcurs\u001b[0m \u001b[0;34m=\u001b[0m \u001b[0mconn\u001b[0m\u001b[0;34m.\u001b[0m\u001b[0mcursor\u001b[0m\u001b[0;34m(\u001b[0m\u001b[0;34m)\u001b[0m\u001b[0;34m\u001b[0m\u001b[0;34m\u001b[0m\u001b[0m\n\u001b[0;32m----> 5\u001b[0;31m \u001b[0mcurs\u001b[0m\u001b[0;34m.\u001b[0m\u001b[0mexecute\u001b[0m\u001b[0;34m(\u001b[0m\u001b[0;34m\"SELECT name FROM sqlite_master WHERE type = 'table'\"\u001b[0m\u001b[0;34m)\u001b[0m\u001b[0;34m.\u001b[0m\u001b[0mfetchall\u001b[0m\u001b[0;34m(\u001b[0m\u001b[0;34m)\u001b[0m\u001b[0;34m\u001b[0m\u001b[0;34m\u001b[0m\u001b[0m\n\u001b[0m",
      "\u001b[0;31mDatabaseError\u001b[0m: file is not a database"
     ]
    }
   ],
   "source": [
    "import sqlite3\n",
    "# conn = sqlite3.connect('data/registry.db')\n",
    "conn = sqlite3.connect('file:data/registry.db?mode=ro', uri=True)\n",
    "curs = conn.cursor()\n",
    "curs.execute(\"SELECT name FROM sqlite_master WHERE type = 'table'\").fetchall()\n"
   ]
  },
  {
   "cell_type": "markdown",
   "id": "92e6176e-8118-4e24-b223-67b038cbb606",
   "metadata": {},
   "source": [
    "# D. Generating training data\n",
    "To train a model, we need features and labels. Often, this label data is stored separately (e.g. you have one table storing user survey results and another set of tables with feature values).\n",
    "The user can query that table of labels with timestamps and pass that into Feast as an entity dataframe for training data generation. In many cases, Feast will also intelligently join relevant tables to create the relevant feature vectors.\n",
    ">Note that we include timestamps because want the features for the same driver at various timestamps to be used in a model."
   ]
  },
  {
   "cell_type": "code",
   "execution_count": 56,
   "id": "d45fbd94-9a5d-4f76-865f-709eb98debdd",
   "metadata": {},
   "outputs": [
    {
     "name": "stdout",
     "output_type": "stream",
     "text": [
      "\n",
      "----- Entity data -----\n"
     ]
    },
    {
     "data": {
      "text/html": [
       "<div>\n",
       "<style scoped>\n",
       "    .dataframe tbody tr th:only-of-type {\n",
       "        vertical-align: middle;\n",
       "    }\n",
       "\n",
       "    .dataframe tbody tr th {\n",
       "        vertical-align: top;\n",
       "    }\n",
       "\n",
       "    .dataframe thead th {\n",
       "        text-align: right;\n",
       "    }\n",
       "</style>\n",
       "<table border=\"1\" class=\"dataframe\">\n",
       "  <thead>\n",
       "    <tr style=\"text-align: right;\">\n",
       "      <th></th>\n",
       "      <th>driver_id</th>\n",
       "      <th>label_driver_reported_satisfaction</th>\n",
       "      <th>event_timestamp</th>\n",
       "    </tr>\n",
       "  </thead>\n",
       "  <tbody>\n",
       "    <tr>\n",
       "      <th>0</th>\n",
       "      <td>1001</td>\n",
       "      <td>1</td>\n",
       "      <td>2021-09-04 15:19:23.070288</td>\n",
       "    </tr>\n",
       "    <tr>\n",
       "      <th>1</th>\n",
       "      <td>1002</td>\n",
       "      <td>5</td>\n",
       "      <td>2021-09-04 14:54:23.070322</td>\n",
       "    </tr>\n",
       "    <tr>\n",
       "      <th>2</th>\n",
       "      <td>1003</td>\n",
       "      <td>3</td>\n",
       "      <td>2021-09-04 14:17:23.070327</td>\n",
       "    </tr>\n",
       "  </tbody>\n",
       "</table>\n",
       "</div>"
      ],
      "text/plain": [
       "   driver_id  label_driver_reported_satisfaction            event_timestamp\n",
       "0       1001                                   1 2021-09-04 15:19:23.070288\n",
       "1       1002                                   5 2021-09-04 14:54:23.070322\n",
       "2       1003                                   3 2021-09-04 14:17:23.070327"
      ]
     },
     "metadata": {},
     "output_type": "display_data"
    },
    {
     "name": "stdout",
     "output_type": "stream",
     "text": [
      "----- Feature schema -----\n",
      "<class 'pandas.core.frame.DataFrame'>\n",
      "Int64Index: 3 entries, 0 to 2\n",
      "Data columns (total 6 columns):\n",
      " #   Column                              Non-Null Count  Dtype              \n",
      "---  ------                              --------------  -----              \n",
      " 0   event_timestamp                     3 non-null      datetime64[ns, UTC]\n",
      " 1   driver_id                           3 non-null      int64              \n",
      " 2   label_driver_reported_satisfaction  3 non-null      int64              \n",
      " 3   conv_rate                           3 non-null      float32            \n",
      " 4   acc_rate                            3 non-null      float32            \n",
      " 5   avg_daily_trips                     3 non-null      int32              \n",
      "dtypes: datetime64[ns, UTC](1), float32(2), int32(1), int64(2)\n",
      "memory usage: 132.0 bytes\n",
      "None \n",
      "\n",
      "\n",
      "----- Example features -----\n"
     ]
    },
    {
     "data": {
      "text/html": [
       "<div>\n",
       "<style scoped>\n",
       "    .dataframe tbody tr th:only-of-type {\n",
       "        vertical-align: middle;\n",
       "    }\n",
       "\n",
       "    .dataframe tbody tr th {\n",
       "        vertical-align: top;\n",
       "    }\n",
       "\n",
       "    .dataframe thead th {\n",
       "        text-align: right;\n",
       "    }\n",
       "</style>\n",
       "<table border=\"1\" class=\"dataframe\">\n",
       "  <thead>\n",
       "    <tr style=\"text-align: right;\">\n",
       "      <th></th>\n",
       "      <th>event_timestamp</th>\n",
       "      <th>driver_id</th>\n",
       "      <th>label_driver_reported_satisfaction</th>\n",
       "      <th>conv_rate</th>\n",
       "      <th>acc_rate</th>\n",
       "      <th>avg_daily_trips</th>\n",
       "    </tr>\n",
       "  </thead>\n",
       "  <tbody>\n",
       "    <tr>\n",
       "      <th>0</th>\n",
       "      <td>2021-09-04 14:17:23.070327+00:00</td>\n",
       "      <td>1003</td>\n",
       "      <td>3</td>\n",
       "      <td>0.829489</td>\n",
       "      <td>0.491795</td>\n",
       "      <td>375</td>\n",
       "    </tr>\n",
       "    <tr>\n",
       "      <th>1</th>\n",
       "      <td>2021-09-04 14:54:23.070322+00:00</td>\n",
       "      <td>1002</td>\n",
       "      <td>5</td>\n",
       "      <td>0.642183</td>\n",
       "      <td>0.260732</td>\n",
       "      <td>911</td>\n",
       "    </tr>\n",
       "    <tr>\n",
       "      <th>2</th>\n",
       "      <td>2021-09-04 15:19:23.070288+00:00</td>\n",
       "      <td>1001</td>\n",
       "      <td>1</td>\n",
       "      <td>0.895251</td>\n",
       "      <td>0.315381</td>\n",
       "      <td>826</td>\n",
       "    </tr>\n",
       "  </tbody>\n",
       "</table>\n",
       "</div>"
      ],
      "text/plain": [
       "                   event_timestamp  driver_id  \\\n",
       "0 2021-09-04 14:17:23.070327+00:00       1003   \n",
       "1 2021-09-04 14:54:23.070322+00:00       1002   \n",
       "2 2021-09-04 15:19:23.070288+00:00       1001   \n",
       "\n",
       "   label_driver_reported_satisfaction  conv_rate  acc_rate  avg_daily_trips  \n",
       "0                                   3   0.829489  0.491795              375  \n",
       "1                                   5   0.642183  0.260732              911  \n",
       "2                                   1   0.895251  0.315381              826  "
      ]
     },
     "metadata": {},
     "output_type": "display_data"
    }
   ],
   "source": [
    "from datetime import datetime, timedelta\n",
    "import pandas as pd\n",
    "\n",
    "from feast import FeatureStore\n",
    "\n",
    "# The entity dataframe is the dataframe we want to enrich with feature values\n",
    "entity_df = pd.DataFrame.from_dict(\n",
    "    {\n",
    "        \"driver_id\": [1001, 1002, 1003],\n",
    "        \"label_driver_reported_satisfaction\": [1, 5, 3], \n",
    "        \"event_timestamp\": [\n",
    "            datetime.now() - timedelta(minutes=11),\n",
    "            datetime.now() - timedelta(minutes=36),\n",
    "            datetime.now() - timedelta(minutes=73),\n",
    "        ],\n",
    "    }\n",
    ")\n",
    "print(\"\\n----- Entity data -----\")\n",
    "display(entity_df)\n",
    "store = FeatureStore(repo_path=\".\")\n",
    "\n",
    "training_df = store.get_historical_features(\n",
    "    entity_df=entity_df,\n",
    "    features=[\n",
    "        \"driver_hourly_stats:conv_rate\",\n",
    "        \"driver_hourly_stats:acc_rate\",\n",
    "        \"driver_hourly_stats:avg_daily_trips\",\n",
    "    ],\n",
    ").to_df()\n",
    "\n",
    "print(\"----- Feature schema -----\")\n",
    "print(training_df.info(),'\\n')\n",
    "\n",
    "print()\n",
    "print(\"----- Example features -----\")\n",
    "display(training_df.head())"
   ]
  },
  {
   "cell_type": "markdown",
   "id": "df97075c-b6f8-4f5e-ba0a-63fa185f6dc8",
   "metadata": {},
   "source": [
    "# E. Load features into the online store\n",
    "We now serialize the latest values of features since the beginning of time to prepare for serving (note: materialize-incremental serializes all new features since the last materialize call)."
   ]
  },
  {
   "cell_type": "markdown",
   "id": "8c2c6d5a-a502-4f6e-90df-c110c480f252",
   "metadata": {},
   "source": [
    "#### execute `feast materialize-incremental`"
   ]
  },
  {
   "cell_type": "code",
   "execution_count": 126,
   "id": "ff438012-2048-4b85-98ef-91df10d1d93d",
   "metadata": {},
   "outputs": [
    {
     "name": "stdout",
     "output_type": "stream",
     "text": [
      "Materializing \u001b[1m\u001b[32m1\u001b[0m feature views to \u001b[1m\u001b[32m2021-09-05 01:33:21+09:00\u001b[0m into the \u001b[1m\u001b[32msqlite\u001b[0m online store.\n",
      "\n",
      "\u001b[1m\u001b[32mdriver_hourly_stats\u001b[0m from \u001b[1m\u001b[32m2021-09-05 01:21:11+09:00\u001b[0m to \u001b[1m\u001b[32m2021-09-05 01:33:21+09:00\u001b[0m:\n"
     ]
    },
    {
     "name": "stderr",
     "output_type": "stream",
     "text": [
      "0it [00:00, ?it/s]\n"
     ]
    }
   ],
   "source": [
    "%%bash\n",
    "export CURRENT_TIME=$(date -u +\"%Y-%m-%dT%H:%M:%S\")\n",
    "../run-venv.sh  feast-conda-env \\\n",
    "feast materialize-incremental $CURRENT_TIME"
   ]
  },
  {
   "cell_type": "markdown",
   "id": "563eb81e-8296-4f53-9199-1db21546c1a3",
   "metadata": {},
   "source": [
    "#### check the online store resides in SQLite db file."
   ]
  },
  {
   "cell_type": "code",
   "execution_count": 121,
   "id": "bcd80d99-d8df-463e-8963-2510c6d7add6",
   "metadata": {},
   "outputs": [
    {
     "data": {
      "text/plain": [
       "[('feature_repo_driver_hourly_stats',)]"
      ]
     },
     "execution_count": 121,
     "metadata": {},
     "output_type": "execute_result"
    }
   ],
   "source": [
    "import sqlite3\n",
    "import pandas as pd\n",
    "# conn = sqlite3.connect('data/online_store.db')\n",
    "conn = sqlite3.connect('file:data/online_store.db?mode=ro', uri=True)\n",
    "curs = conn.cursor()\n",
    "curs.execute(\"SELECT name FROM sqlite_master WHERE type = 'table'\").fetchall()\n"
   ]
  },
  {
   "cell_type": "code",
   "execution_count": 122,
   "id": "ddbce1c7-02be-4c86-bd96-863f764d0114",
   "metadata": {},
   "outputs": [
    {
     "name": "stdout",
     "output_type": "stream",
     "text": [
      "(0, 'entity_key', 'BLOB', 0, None, 1)\n",
      "(1, 'feature_name', 'TEXT', 0, None, 2)\n",
      "(2, 'value', 'BLOB', 0, None, 0)\n",
      "(3, 'event_ts', 'timestamp', 0, None, 0)\n",
      "(4, 'created_ts', 'timestamp', 0, None, 0)\n"
     ]
    }
   ],
   "source": [
    "for row in curs.execute(\"PRAGMA table_info(feature_repo_driver_hourly_stats)\"):\n",
    "    print(row)"
   ]
  },
  {
   "cell_type": "code",
   "execution_count": 123,
   "id": "609d9640-fc65-4a39-aa0b-c4c4c5de0ceb",
   "metadata": {},
   "outputs": [
    {
     "data": {
      "text/html": [
       "<div>\n",
       "<style scoped>\n",
       "    .dataframe tbody tr th:only-of-type {\n",
       "        vertical-align: middle;\n",
       "    }\n",
       "\n",
       "    .dataframe tbody tr th {\n",
       "        vertical-align: top;\n",
       "    }\n",
       "\n",
       "    .dataframe thead th {\n",
       "        text-align: right;\n",
       "    }\n",
       "</style>\n",
       "<table border=\"1\" class=\"dataframe\">\n",
       "  <thead>\n",
       "    <tr style=\"text-align: right;\">\n",
       "      <th></th>\n",
       "      <th>entity_key</th>\n",
       "      <th>feature_name</th>\n",
       "      <th>value</th>\n",
       "      <th>event_ts</th>\n",
       "      <th>created_ts</th>\n",
       "    </tr>\n",
       "  </thead>\n",
       "  <tbody>\n",
       "    <tr>\n",
       "      <th>0</th>\n",
       "      <td>b'\\x02\\x00\\x00\\x00driver_id\\x04\\x00\\x00\\x00\\x0...</td>\n",
       "      <td>conv_rate</td>\n",
       "      <td>b')\\x00\\x00\\x00@\\x00a\\xe8?'</td>\n",
       "      <td>2021-09-04 03:00:00</td>\n",
       "      <td>2021-09-04 04:26:19.018000</td>\n",
       "    </tr>\n",
       "    <tr>\n",
       "      <th>1</th>\n",
       "      <td>b'\\x02\\x00\\x00\\x00driver_id\\x04\\x00\\x00\\x00\\x0...</td>\n",
       "      <td>acc_rate</td>\n",
       "      <td>b')\\x00\\x00\\x00\\x00\\xd6\\xf7\\xe3?'</td>\n",
       "      <td>2021-09-04 03:00:00</td>\n",
       "      <td>2021-09-04 04:26:19.018000</td>\n",
       "    </tr>\n",
       "    <tr>\n",
       "      <th>2</th>\n",
       "      <td>b'\\x02\\x00\\x00\\x00driver_id\\x04\\x00\\x00\\x00\\x0...</td>\n",
       "      <td>avg_daily_trips</td>\n",
       "      <td>b' \\xb9\\x01'</td>\n",
       "      <td>2021-09-04 03:00:00</td>\n",
       "      <td>2021-09-04 04:26:19.018000</td>\n",
       "    </tr>\n",
       "    <tr>\n",
       "      <th>3</th>\n",
       "      <td>b'\\x02\\x00\\x00\\x00driver_id\\x04\\x00\\x00\\x00\\x0...</td>\n",
       "      <td>conv_rate</td>\n",
       "      <td>b')\\x00\\x00\\x00\\xa0\\xabp\\xeb?'</td>\n",
       "      <td>2021-09-04 03:00:00</td>\n",
       "      <td>2021-09-04 04:26:19.018000</td>\n",
       "    </tr>\n",
       "    <tr>\n",
       "      <th>4</th>\n",
       "      <td>b'\\x02\\x00\\x00\\x00driver_id\\x04\\x00\\x00\\x00\\x0...</td>\n",
       "      <td>acc_rate</td>\n",
       "      <td>b')\\x00\\x00\\x00\\xc0\\xd0\\x8b\\xe0?'</td>\n",
       "      <td>2021-09-04 03:00:00</td>\n",
       "      <td>2021-09-04 04:26:19.018000</td>\n",
       "    </tr>\n",
       "    <tr>\n",
       "      <th>5</th>\n",
       "      <td>b'\\x02\\x00\\x00\\x00driver_id\\x04\\x00\\x00\\x00\\x0...</td>\n",
       "      <td>avg_daily_trips</td>\n",
       "      <td>b' \\xdc\\x07'</td>\n",
       "      <td>2021-09-04 03:00:00</td>\n",
       "      <td>2021-09-04 04:26:19.018000</td>\n",
       "    </tr>\n",
       "    <tr>\n",
       "      <th>6</th>\n",
       "      <td>b'\\x02\\x00\\x00\\x00driver_id\\x04\\x00\\x00\\x00\\x0...</td>\n",
       "      <td>conv_rate</td>\n",
       "      <td>b')\\x00\\x00\\x00\\xe0+\\x8b\\xea?'</td>\n",
       "      <td>2021-09-04 03:00:00</td>\n",
       "      <td>2021-09-04 04:26:19.018000</td>\n",
       "    </tr>\n",
       "    <tr>\n",
       "      <th>7</th>\n",
       "      <td>b'\\x02\\x00\\x00\\x00driver_id\\x04\\x00\\x00\\x00\\x0...</td>\n",
       "      <td>acc_rate</td>\n",
       "      <td>b')\\x00\\x00\\x00\\xa0\\x92y\\xdf?'</td>\n",
       "      <td>2021-09-04 03:00:00</td>\n",
       "      <td>2021-09-04 04:26:19.018000</td>\n",
       "    </tr>\n",
       "    <tr>\n",
       "      <th>8</th>\n",
       "      <td>b'\\x02\\x00\\x00\\x00driver_id\\x04\\x00\\x00\\x00\\x0...</td>\n",
       "      <td>avg_daily_trips</td>\n",
       "      <td>b' \\xf7\\x02'</td>\n",
       "      <td>2021-09-04 03:00:00</td>\n",
       "      <td>2021-09-04 04:26:19.018000</td>\n",
       "    </tr>\n",
       "    <tr>\n",
       "      <th>9</th>\n",
       "      <td>b'\\x02\\x00\\x00\\x00driver_id\\x04\\x00\\x00\\x00\\x0...</td>\n",
       "      <td>conv_rate</td>\n",
       "      <td>b')\\x00\\x00\\x00 \\xc4\\x8c\\xe4?'</td>\n",
       "      <td>2021-09-04 03:00:00</td>\n",
       "      <td>2021-09-04 04:26:19.018000</td>\n",
       "    </tr>\n",
       "    <tr>\n",
       "      <th>10</th>\n",
       "      <td>b'\\x02\\x00\\x00\\x00driver_id\\x04\\x00\\x00\\x00\\x0...</td>\n",
       "      <td>acc_rate</td>\n",
       "      <td>b')\\x00\\x00\\x00@\\xd5\\xaf\\xd0?'</td>\n",
       "      <td>2021-09-04 03:00:00</td>\n",
       "      <td>2021-09-04 04:26:19.018000</td>\n",
       "    </tr>\n",
       "    <tr>\n",
       "      <th>11</th>\n",
       "      <td>b'\\x02\\x00\\x00\\x00driver_id\\x04\\x00\\x00\\x00\\x0...</td>\n",
       "      <td>avg_daily_trips</td>\n",
       "      <td>b' \\x8f\\x07'</td>\n",
       "      <td>2021-09-04 03:00:00</td>\n",
       "      <td>2021-09-04 04:26:19.018000</td>\n",
       "    </tr>\n",
       "    <tr>\n",
       "      <th>12</th>\n",
       "      <td>b'\\x02\\x00\\x00\\x00driver_id\\x04\\x00\\x00\\x00\\x0...</td>\n",
       "      <td>conv_rate</td>\n",
       "      <td>b')\\x00\\x00\\x00\\x80\\xe5\\xa5\\xec?'</td>\n",
       "      <td>2021-09-04 03:00:00</td>\n",
       "      <td>2021-09-04 04:26:19.018000</td>\n",
       "    </tr>\n",
       "    <tr>\n",
       "      <th>13</th>\n",
       "      <td>b'\\x02\\x00\\x00\\x00driver_id\\x04\\x00\\x00\\x00\\x0...</td>\n",
       "      <td>acc_rate</td>\n",
       "      <td>b')\\x00\\x00\\x00@4/\\xd4?'</td>\n",
       "      <td>2021-09-04 03:00:00</td>\n",
       "      <td>2021-09-04 04:26:19.018000</td>\n",
       "    </tr>\n",
       "    <tr>\n",
       "      <th>14</th>\n",
       "      <td>b'\\x02\\x00\\x00\\x00driver_id\\x04\\x00\\x00\\x00\\x0...</td>\n",
       "      <td>avg_daily_trips</td>\n",
       "      <td>b' \\xba\\x06'</td>\n",
       "      <td>2021-09-04 03:00:00</td>\n",
       "      <td>2021-09-04 04:26:19.018000</td>\n",
       "    </tr>\n",
       "  </tbody>\n",
       "</table>\n",
       "</div>"
      ],
      "text/plain": [
       "                                           entity_key     feature_name  \\\n",
       "0   b'\\x02\\x00\\x00\\x00driver_id\\x04\\x00\\x00\\x00\\x0...        conv_rate   \n",
       "1   b'\\x02\\x00\\x00\\x00driver_id\\x04\\x00\\x00\\x00\\x0...         acc_rate   \n",
       "2   b'\\x02\\x00\\x00\\x00driver_id\\x04\\x00\\x00\\x00\\x0...  avg_daily_trips   \n",
       "3   b'\\x02\\x00\\x00\\x00driver_id\\x04\\x00\\x00\\x00\\x0...        conv_rate   \n",
       "4   b'\\x02\\x00\\x00\\x00driver_id\\x04\\x00\\x00\\x00\\x0...         acc_rate   \n",
       "5   b'\\x02\\x00\\x00\\x00driver_id\\x04\\x00\\x00\\x00\\x0...  avg_daily_trips   \n",
       "6   b'\\x02\\x00\\x00\\x00driver_id\\x04\\x00\\x00\\x00\\x0...        conv_rate   \n",
       "7   b'\\x02\\x00\\x00\\x00driver_id\\x04\\x00\\x00\\x00\\x0...         acc_rate   \n",
       "8   b'\\x02\\x00\\x00\\x00driver_id\\x04\\x00\\x00\\x00\\x0...  avg_daily_trips   \n",
       "9   b'\\x02\\x00\\x00\\x00driver_id\\x04\\x00\\x00\\x00\\x0...        conv_rate   \n",
       "10  b'\\x02\\x00\\x00\\x00driver_id\\x04\\x00\\x00\\x00\\x0...         acc_rate   \n",
       "11  b'\\x02\\x00\\x00\\x00driver_id\\x04\\x00\\x00\\x00\\x0...  avg_daily_trips   \n",
       "12  b'\\x02\\x00\\x00\\x00driver_id\\x04\\x00\\x00\\x00\\x0...        conv_rate   \n",
       "13  b'\\x02\\x00\\x00\\x00driver_id\\x04\\x00\\x00\\x00\\x0...         acc_rate   \n",
       "14  b'\\x02\\x00\\x00\\x00driver_id\\x04\\x00\\x00\\x00\\x0...  avg_daily_trips   \n",
       "\n",
       "                                value             event_ts  \\\n",
       "0         b')\\x00\\x00\\x00@\\x00a\\xe8?'  2021-09-04 03:00:00   \n",
       "1   b')\\x00\\x00\\x00\\x00\\xd6\\xf7\\xe3?'  2021-09-04 03:00:00   \n",
       "2                        b' \\xb9\\x01'  2021-09-04 03:00:00   \n",
       "3      b')\\x00\\x00\\x00\\xa0\\xabp\\xeb?'  2021-09-04 03:00:00   \n",
       "4   b')\\x00\\x00\\x00\\xc0\\xd0\\x8b\\xe0?'  2021-09-04 03:00:00   \n",
       "5                        b' \\xdc\\x07'  2021-09-04 03:00:00   \n",
       "6      b')\\x00\\x00\\x00\\xe0+\\x8b\\xea?'  2021-09-04 03:00:00   \n",
       "7      b')\\x00\\x00\\x00\\xa0\\x92y\\xdf?'  2021-09-04 03:00:00   \n",
       "8                        b' \\xf7\\x02'  2021-09-04 03:00:00   \n",
       "9      b')\\x00\\x00\\x00 \\xc4\\x8c\\xe4?'  2021-09-04 03:00:00   \n",
       "10     b')\\x00\\x00\\x00@\\xd5\\xaf\\xd0?'  2021-09-04 03:00:00   \n",
       "11                       b' \\x8f\\x07'  2021-09-04 03:00:00   \n",
       "12  b')\\x00\\x00\\x00\\x80\\xe5\\xa5\\xec?'  2021-09-04 03:00:00   \n",
       "13           b')\\x00\\x00\\x00@4/\\xd4?'  2021-09-04 03:00:00   \n",
       "14                       b' \\xba\\x06'  2021-09-04 03:00:00   \n",
       "\n",
       "                    created_ts  \n",
       "0   2021-09-04 04:26:19.018000  \n",
       "1   2021-09-04 04:26:19.018000  \n",
       "2   2021-09-04 04:26:19.018000  \n",
       "3   2021-09-04 04:26:19.018000  \n",
       "4   2021-09-04 04:26:19.018000  \n",
       "5   2021-09-04 04:26:19.018000  \n",
       "6   2021-09-04 04:26:19.018000  \n",
       "7   2021-09-04 04:26:19.018000  \n",
       "8   2021-09-04 04:26:19.018000  \n",
       "9   2021-09-04 04:26:19.018000  \n",
       "10  2021-09-04 04:26:19.018000  \n",
       "11  2021-09-04 04:26:19.018000  \n",
       "12  2021-09-04 04:26:19.018000  \n",
       "13  2021-09-04 04:26:19.018000  \n",
       "14  2021-09-04 04:26:19.018000  "
      ]
     },
     "metadata": {},
     "output_type": "display_data"
    },
    {
     "name": "stdout",
     "output_type": "stream",
     "text": [
      "<class 'pandas.core.frame.DataFrame'>\n",
      "RangeIndex: 15 entries, 0 to 14\n",
      "Data columns (total 5 columns):\n",
      " #   Column        Non-Null Count  Dtype \n",
      "---  ------        --------------  ----- \n",
      " 0   entity_key    15 non-null     object\n",
      " 1   feature_name  15 non-null     object\n",
      " 2   value         15 non-null     object\n",
      " 3   event_ts      15 non-null     object\n",
      " 4   created_ts    15 non-null     object\n",
      "dtypes: object(5)\n",
      "memory usage: 728.0+ bytes\n"
     ]
    }
   ],
   "source": [
    "df = pd.read_sql_query(\"SELECT * from feature_repo_driver_hourly_stats\", con=conn)\n",
    "# df=df['entity_key'].apply(lambda x: x.decode(\"utf-8\"))\n",
    "display(df)\n",
    "df.info()\n"
   ]
  },
  {
   "cell_type": "code",
   "execution_count": null,
   "id": "939b7124-18aa-42a4-9bf2-e8c1914c6b90",
   "metadata": {},
   "outputs": [],
   "source": [
    "conn.close()\n"
   ]
  },
  {
   "cell_type": "markdown",
   "id": "57d72f0c-50db-47a1-adf0-a03467573deb",
   "metadata": {},
   "source": [
    "# F. Fetching feature vectors for inference\n",
    "At inference time, we need to quickly read the latest feature values for different drivers (which otherwise might have existed only in batch sources) from the online feature store using get_online_features(). These feature vectors can then be fed to the model."
   ]
  },
  {
   "cell_type": "code",
   "execution_count": 117,
   "id": "da886750-aca0-410d-bb8c-021357430743",
   "metadata": {},
   "outputs": [
    {
     "name": "stdout",
     "output_type": "stream",
     "text": [
      "{'acc_rate': [0.5170673131942749, 0.6240034103393555],\n",
      " 'avg_daily_trips': [988, 185],\n",
      " 'conv_rate': [0.8575037121772766, 0.7618409395217896],\n",
      " 'driver_id': [1004, 1005]}\n",
      "{'acc_rate': [0.5170673131942749, 0.6240034103393555],\n",
      " 'avg_daily_trips': [988, 185],\n",
      " 'conv_rate': [0.8575037121772766, 0.7618409395217896],\n",
      " 'driver_id': [1004, 1005]}\n",
      "{'acc_rate': [0.5170673131942749, 0.6240034103393555],\n",
      " 'avg_daily_trips': [988, 185],\n",
      " 'conv_rate': [0.8575037121772766, 0.7618409395217896],\n",
      " 'driver_id': [1004, 1005]}\n",
      "{'acc_rate': [0.5170673131942749, 0.6240034103393555],\n",
      " 'avg_daily_trips': [988, 185],\n",
      " 'conv_rate': [0.8575037121772766, 0.7618409395217896],\n",
      " 'driver_id': [1004, 1005]}\n",
      "{'acc_rate': [0.5170673131942749, 0.6240034103393555],\n",
      " 'avg_daily_trips': [988, 185],\n",
      " 'conv_rate': [0.8575037121772766, 0.7618409395217896],\n",
      " 'driver_id': [1004, 1005]}\n",
      "{'acc_rate': [0.5170673131942749, 0.6240034103393555],\n",
      " 'avg_daily_trips': [988, 185],\n",
      " 'conv_rate': [0.8575037121772766, 0.7618409395217896],\n",
      " 'driver_id': [1004, 1005]}\n",
      "{'acc_rate': [0.5170673131942749, 0.6240034103393555],\n",
      " 'avg_daily_trips': [988, 185],\n",
      " 'conv_rate': [0.8575037121772766, 0.7618409395217896],\n",
      " 'driver_id': [1004, 1005]}\n",
      "{'acc_rate': [0.5170673131942749, 0.6240034103393555],\n",
      " 'avg_daily_trips': [988, 185],\n",
      " 'conv_rate': [0.8575037121772766, 0.7618409395217896],\n",
      " 'driver_id': [1004, 1005]}\n",
      "447 ms ± 13 ms per loop (mean ± std. dev. of 7 runs, 1 loop each)\n"
     ]
    }
   ],
   "source": [
    "%%timeit\n",
    "from pprint import pprint\n",
    "from feast import FeatureStore\n",
    "\n",
    "store = FeatureStore(repo_path=\".\")\n",
    "\n",
    "feature_vector = store.get_online_features(\n",
    "    features=[\n",
    "        \"driver_hourly_stats:conv_rate\",\n",
    "        \"driver_hourly_stats:acc_rate\",\n",
    "        \"driver_hourly_stats:avg_daily_trips\",\n",
    "    ],\n",
    "    entity_rows=[\n",
    "        {\"driver_id\": 1004},\n",
    "        {\"driver_id\": 1005},\n",
    "    ],\n",
    ").to_dict()\n",
    "\n",
    "pprint(feature_vector)"
   ]
  },
  {
   "cell_type": "markdown",
   "id": "50d294c3-63db-4524-989e-f9e13d4035f8",
   "metadata": {},
   "source": [
    "# G. Command Line interface"
   ]
  },
  {
   "cell_type": "code",
   "execution_count": 118,
   "id": "cc729c22-d47f-4b88-9bbc-a451de86ab45",
   "metadata": {},
   "outputs": [
    {
     "name": "stdout",
     "output_type": "stream",
     "text": [
      "Usage: feast [OPTIONS] COMMAND [ARGS]...\n",
      "\n",
      "  Feast CLI\n",
      "\n",
      "  For more information, see our public docs at https://docs.feast.dev/\n",
      "\n",
      "  For any questions, you can reach us at https://slack.feast.dev/\n",
      "\n",
      "Options:\n",
      "  -c, --chdir TEXT  Switch to a different feature repository directory before\n",
      "                    executing the given subcommand.\n",
      "\n",
      "  --help            Show this message and exit.\n",
      "\n",
      "Commands:\n",
      "  apply                    Create or update a feature store deployment\n",
      "  entities                 Access entities\n",
      "  feature-services         Access feature services\n",
      "  feature-views            Access feature views\n",
      "  init                     Create a new Feast repository\n",
      "  materialize              Run a (non-incremental) materialization job to...\n",
      "  materialize-incremental  Run an incremental materialization job to ingest...\n",
      "  registry-dump            Print contents of the metadata registry\n",
      "  teardown                 Tear down deployed feature store infrastructure\n",
      "  version                  Display Feast SDK version\n"
     ]
    }
   ],
   "source": [
    "!../run-venv.sh feast-conda-env \\\n",
    "feast --help"
   ]
  },
  {
   "cell_type": "code",
   "execution_count": 109,
   "id": "1137d382-922b-4d40-9d77-7925bca51e82",
   "metadata": {},
   "outputs": [
    {
     "name": "stdout",
     "output_type": "stream",
     "text": [
      "NAME       DESCRIPTION    TYPE\n",
      "driver_id  driver id      ValueType.INT64\n"
     ]
    }
   ],
   "source": [
    "!../run-venv.sh feast-conda-env \\\n",
    "feast entities list"
   ]
  },
  {
   "cell_type": "code",
   "execution_count": 113,
   "id": "928fdba7-2ee3-464c-bf2e-e13188346439",
   "metadata": {},
   "outputs": [
    {
     "name": "stdout",
     "output_type": "stream",
     "text": [
      "spec:\n",
      "  name: driver_id\n",
      "  valueType: INT64\n",
      "  description: driver id\n",
      "  joinKey: driver_id\n",
      "meta: {}\n",
      "\n"
     ]
    }
   ],
   "source": [
    "!../run-venv.sh feast-conda-env \\\n",
    "feast entities describe driver_id"
   ]
  },
  {
   "cell_type": "code",
   "execution_count": 114,
   "id": "21031571-1f5d-43f1-991a-67178d47e80e",
   "metadata": {},
   "outputs": [
    {
     "name": "stdout",
     "output_type": "stream",
     "text": [
      "NAME                 ENTITIES\n",
      "driver_hourly_stats  ['driver_id']\n"
     ]
    }
   ],
   "source": [
    "!../run-venv.sh feast-conda-env \\\n",
    "feast feature-views list"
   ]
  },
  {
   "cell_type": "code",
   "execution_count": 115,
   "id": "7145ac85-ae83-4277-982b-ab4b9277f02e",
   "metadata": {},
   "outputs": [
    {
     "name": "stdout",
     "output_type": "stream",
     "text": [
      "spec:\n",
      "  name: driver_hourly_stats\n",
      "  entities:\n",
      "  - driver_id\n",
      "  features:\n",
      "  - name: conv_rate\n",
      "    valueType: FLOAT\n",
      "  - name: acc_rate\n",
      "    valueType: FLOAT\n",
      "  - name: avg_daily_trips\n",
      "    valueType: INT64\n",
      "  ttl: 86400s\n",
      "  batchSource:\n",
      "    type: BATCH_FILE\n",
      "    eventTimestampColumn: event_timestamp\n",
      "    createdTimestampColumn: created\n",
      "    fileOptions:\n",
      "      fileUrl: /workspace/FeatureStore/1.getting-started/feature_repo/data/driver_stats.parquet\n",
      "    dataSourceClassType: feast.infra.offline_stores.file_source.FileSource\n",
      "  online: true\n",
      "meta:\n",
      "  materializationIntervals:\n",
      "  - startTime: '2021-09-03T06:47:26.421407Z'\n",
      "    endTime: '2021-09-04T06:47:22Z'\n",
      "\n"
     ]
    }
   ],
   "source": [
    "!../run-venv.sh feast-conda-env \\\n",
    "feast feature-views describe driver_hourly_stats"
   ]
  },
  {
   "cell_type": "code",
   "execution_count": 116,
   "id": "32d5ff93-c377-4609-8236-36d05c120d3d",
   "metadata": {},
   "outputs": [
    {
     "name": "stdout",
     "output_type": "stream",
     "text": [
      "{\n",
      "  \"spec\": {\n",
      "    \"name\": \"driver_id\",\n",
      "    \"valueType\": \"INT64\",\n",
      "    \"description\": \"driver id\",\n",
      "    \"joinKey\": \"driver_id\"\n",
      "  },\n",
      "  \"meta\": {}\n",
      "}\n",
      "{\n",
      "  \"spec\": {\n",
      "    \"name\": \"driver_hourly_stats\",\n",
      "    \"entities\": [\n",
      "      \"driver_id\"\n",
      "    ],\n",
      "    \"features\": [\n",
      "      {\n",
      "        \"name\": \"conv_rate\",\n",
      "        \"valueType\": \"FLOAT\"\n",
      "      },\n",
      "      {\n",
      "        \"name\": \"acc_rate\",\n",
      "        \"valueType\": \"FLOAT\"\n",
      "      },\n",
      "      {\n",
      "        \"name\": \"avg_daily_trips\",\n",
      "        \"valueType\": \"INT64\"\n",
      "      }\n",
      "    ],\n",
      "    \"ttl\": \"86400s\",\n",
      "    \"batchSource\": {\n",
      "      \"type\": \"BATCH_FILE\",\n",
      "      \"eventTimestampColumn\": \"event_timestamp\",\n",
      "      \"createdTimestampColumn\": \"created\",\n",
      "      \"fileOptions\": {\n",
      "        \"fileUrl\": \"/workspace/FeatureStore/1.getting-started/feature_repo/data/driver_stats.parquet\"\n",
      "      },\n",
      "      \"dataSourceClassType\": \"feast.infra.offline_stores.file_source.FileSource\"\n",
      "    },\n",
      "    \"online\": true\n",
      "  },\n",
      "  \"meta\": {\n",
      "    \"materializationIntervals\": [\n",
      "      {\n",
      "        \"startTime\": \"2021-09-03T06:47:26.421407Z\",\n",
      "        \"endTime\": \"2021-09-04T06:47:22Z\"\n",
      "      }\n",
      "    ]\n",
      "  }\n",
      "}\n"
     ]
    }
   ],
   "source": [
    "!../run-venv.sh feast-conda-env \\\n",
    "feast registry-dump"
   ]
  },
  {
   "cell_type": "markdown",
   "id": "6277995d-ec16-46f3-86f9-bb913a60ed9c",
   "metadata": {},
   "source": [
    "# H. Comprehension of `feast materialize-incremental` \n"
   ]
  },
  {
   "cell_type": "markdown",
   "id": "bc61c261-7b4b-4145-92de-ea0821818b96",
   "metadata": {},
   "source": [
    "Data upload from offline store to online store will be peformed by `feast materialize` or `feast  materialize-incremental`. With scope of sotring data, big difference between offline store and online store is whether the store contains all historical data or latest data. This specificity defines usage of each store. While **offline store** can be a source for **training data**, **online store** works with **prediction** process.\n",
    "\n",
    "Back to the point on feast command, materialize always needs two time stamps which are from and to. On the other hand, materialize-incremental only needs one or no time stamp for end of the period. As explained above, because online store keeps the latest data with latest timestamp, materialize-incremental needs end time stamp to extract data from offline store. If there is no timestamp, it would be taken as current timestamp.  \n",
    "```shell\n",
    "$ feast materialize-incremental 2022-01-01T00:00:00\n",
    "$ feast materialize -v driver_hourly_stats 2020-01-01T00:00:00 2020-01-02T00:00:00\n",
    "```"
   ]
  },
  {
   "cell_type": "markdown",
   "id": "53e0adab-adc5-4030-8a3c-4a2aaab65e07",
   "metadata": {},
   "source": [
    "# I. Next Action Items for the research\n",
    "\n",
    "1. Configuring Offline and Online stores with Local provider\n",
    "2. Connecting these local stores to the process of training and serving\n",
    "3. Configuring Offline and Online stores with GCP provider\n",
    "4. Applying stores to MLOps full cycle on GCP\n",
    "\n"
   ]
  },
  {
   "cell_type": "code",
   "execution_count": null,
   "id": "705705b1-de32-4c9b-b6df-28e463878fb7",
   "metadata": {},
   "outputs": [],
   "source": []
  }
 ],
 "metadata": {
  "kernelspec": {
   "display_name": "Feast Env",
   "language": "python",
   "name": "feast-conda-env"
  },
  "language_info": {
   "codemirror_mode": {
    "name": "ipython",
    "version": 3
   },
   "file_extension": ".py",
   "mimetype": "text/x-python",
   "name": "python",
   "nbconvert_exporter": "python",
   "pygments_lexer": "ipython3",
   "version": "3.9.7"
  }
 },
 "nbformat": 4,
 "nbformat_minor": 5
}
