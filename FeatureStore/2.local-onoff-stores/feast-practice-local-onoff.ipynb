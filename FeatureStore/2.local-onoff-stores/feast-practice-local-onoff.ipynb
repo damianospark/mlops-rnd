{
 "cells": [
  {
   "cell_type": "code",
   "execution_count": 4,
   "id": "36cdf4b5-a097-437b-989a-87d556bd72b5",
   "metadata": {},
   "outputs": [
    {
     "name": "stdout",
     "output_type": "stream",
     "text": [
      "/workspace/FeatureStore/2.local-onoff-stores\n"
     ]
    }
   ],
   "source": [
    "!pwd\n",
    "!chmod 755 run-venv.sh"
   ]
  },
  {
   "cell_type": "markdown",
   "id": "01b28c3d-4017-4fc4-a669-b27639498a46",
   "metadata": {},
   "source": [
    "# Initialize repo\n",
    "Repository folder name should alpha numeric or underscore(_). Dash(-) is not allowed by feast "
   ]
  },
  {
   "cell_type": "code",
   "execution_count": 6,
   "id": "9bb53dae-46a6-4ef0-adff-2285a260a255",
   "metadata": {},
   "outputs": [
    {
     "name": "stdout",
     "output_type": "stream",
     "text": [
      "\n",
      "Creating a new Feast repository in \u001b[1m\u001b[32m/workspace/FeatureStore/2.local-onoff-stores/local_onoff_repo\u001b[0m.\n",
      "\n"
     ]
    }
   ],
   "source": [
    "!./run-venv.sh feast-conda-env \\\n",
    " feast init local_onoff_repo\n"
   ]
  },
  {
   "cell_type": "markdown",
   "id": "942a38d4-6761-46d4-b118-dfac342239cd",
   "metadata": {},
   "source": [
    "#### feast init result ####"
   ]
  },
  {
   "cell_type": "code",
   "execution_count": 7,
   "id": "34169b1f-0604-4b01-b914-5f7407d7b58c",
   "metadata": {},
   "outputs": [
    {
     "name": "stdout",
     "output_type": "stream",
     "text": [
      "/workspace/FeatureStore/2.local-onoff-stores/local_onoff_repo\n",
      "\u001b[01;34m.\u001b[00m\n",
      "├── \u001b[01;34mdata\u001b[00m\n",
      "│   └── driver_stats.parquet\n",
      "├── example.py\n",
      "└── feature_store.yaml\n",
      "\n",
      "1 directory, 3 files\n"
     ]
    }
   ],
   "source": [
    "%cd local_onoff_repo\n",
    "!tree -a -c"
   ]
  },
  {
   "cell_type": "markdown",
   "id": "448d3b60-6c32-47c7-93ba-f35fd060a746",
   "metadata": {},
   "source": [
    "## Modify Generated files \n",
    "### 1. The **feature_store.yaml** configuration file :\n",
    "`feast init` generates example configuration files. You should modify them for your development requirements and execute `feast apply` and `feast metirialize` in the end\n",
    "\n",
    "The configuration for a feature store is stored in a file named feature_store.yaml , which must be located at the root of a feature repository. This tutorial is from [Feas official site](https://docs.feast.dev) and it is only on online store. The feature_store.yaml file in the feature_repo folder is shown below:\n"
   ]
  },
  {
   "cell_type": "code",
   "execution_count": 12,
   "id": "c7994534-900d-4b82-857a-6f45075174bd",
   "metadata": {},
   "outputs": [
    {
     "name": "stdout",
     "output_type": "stream",
     "text": [
      "\u001b[94mproject\u001b[39;49;00m: feature_repo\n",
      "\u001b[94mregistry\u001b[39;49;00m: data/registry.db\n",
      "\u001b[94mprovider\u001b[39;49;00m: local\n",
      "\u001b[94monline_store\u001b[39;49;00m:\n",
      "    \u001b[94mpath\u001b[39;49;00m: data/online_store.db\n"
     ]
    }
   ],
   "source": [
    "!pygmentize feature_store.yaml"
   ]
  }
 ],
 "metadata": {
  "kernelspec": {
   "display_name": "Feast Env",
   "language": "python",
   "name": "feast-conda-env"
  },
  "language_info": {
   "codemirror_mode": {
    "name": "ipython",
    "version": 3
   },
   "file_extension": ".py",
   "mimetype": "text/x-python",
   "name": "python",
   "nbconvert_exporter": "python",
   "pygments_lexer": "ipython3",
   "version": "3.9.7"
  }
 },
 "nbformat": 4,
 "nbformat_minor": 5
}
