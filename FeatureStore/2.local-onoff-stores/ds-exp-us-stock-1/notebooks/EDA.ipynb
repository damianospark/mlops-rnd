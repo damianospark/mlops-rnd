{
 "cells": [
  {
   "cell_type": "markdown",
   "id": "559a4c02-df11-43d9-bac1-bde91e8af777",
   "metadata": {},
   "source": [
    "Install ta-lib and yfinance\n",
    "```bash\n",
    "wget http://prdownloads.sourceforge.net/ta-lib/ta-lib-0.4.0-src.tar.gz\n",
    "untar and cd  ta-lib/\n",
    "./configure --prefix=/usr\n",
    "make\n",
    "make install\n",
    "pip3 install TA-Lib yfinance matplotlib sklearn\n",
    "```"
   ]
  },
  {
   "cell_type": "code",
   "execution_count": 3,
   "id": "029a84bc-52ff-4135-a028-b7c33d8deccc",
   "metadata": {},
   "outputs": [],
   "source": [
    "import yfinance as yf\n",
    "import talib\n",
    "import numpy as np\n",
    "import pandas as pd\n",
    "import matplotlib.pyplot as plt\n",
    "from matplotlib import pyplot\n",
    "from sklearn.ensemble import RandomForestRegressor\n",
    "from sklearn.model_selection import ParameterGrid\n",
    "from sklearn import metrics\n",
    "%matplotlib inline\n"
   ]
  },
  {
   "cell_type": "code",
   "execution_count": 6,
   "id": "e37fc380-4318-480c-abf3-f5e6439b71d9",
   "metadata": {},
   "outputs": [
    {
     "name": "stdout",
     "output_type": "stream",
     "text": [
      "[*********************100%***********************]  1 of 1 completed\n"
     ]
    }
   ],
   "source": [
    "\n",
    "ticker= \"googl\"\n",
    "stock_data = yf.download(ticker, start=\"2016-01-04\", end=\"2021-09-05\")"
   ]
  },
  {
   "cell_type": "code",
   "execution_count": 7,
   "id": "ee834b34-4bc4-4d65-9004-8f07155b6daf",
   "metadata": {},
   "outputs": [
    {
     "data": {
      "text/html": [
       "<div>\n",
       "<style scoped>\n",
       "    .dataframe tbody tr th:only-of-type {\n",
       "        vertical-align: middle;\n",
       "    }\n",
       "\n",
       "    .dataframe tbody tr th {\n",
       "        vertical-align: top;\n",
       "    }\n",
       "\n",
       "    .dataframe thead th {\n",
       "        text-align: right;\n",
       "    }\n",
       "</style>\n",
       "<table border=\"1\" class=\"dataframe\">\n",
       "  <thead>\n",
       "    <tr style=\"text-align: right;\">\n",
       "      <th></th>\n",
       "      <th>Open</th>\n",
       "      <th>High</th>\n",
       "      <th>Low</th>\n",
       "      <th>Close</th>\n",
       "      <th>Adj Close</th>\n",
       "      <th>Volume</th>\n",
       "    </tr>\n",
       "    <tr>\n",
       "      <th>Date</th>\n",
       "      <th></th>\n",
       "      <th></th>\n",
       "      <th></th>\n",
       "      <th></th>\n",
       "      <th></th>\n",
       "      <th></th>\n",
       "    </tr>\n",
       "  </thead>\n",
       "  <tbody>\n",
       "    <tr>\n",
       "      <th>2021-08-30</th>\n",
       "      <td>2888.000000</td>\n",
       "      <td>2919.409912</td>\n",
       "      <td>2883.260010</td>\n",
       "      <td>2891.810059</td>\n",
       "      <td>2891.810059</td>\n",
       "      <td>1221700</td>\n",
       "    </tr>\n",
       "    <tr>\n",
       "      <th>2021-08-31</th>\n",
       "      <td>2902.939941</td>\n",
       "      <td>2903.429932</td>\n",
       "      <td>2885.620117</td>\n",
       "      <td>2893.949951</td>\n",
       "      <td>2893.949951</td>\n",
       "      <td>1122400</td>\n",
       "    </tr>\n",
       "    <tr>\n",
       "      <th>2021-09-01</th>\n",
       "      <td>2900.000000</td>\n",
       "      <td>2925.080078</td>\n",
       "      <td>2897.669922</td>\n",
       "      <td>2904.310059</td>\n",
       "      <td>2904.310059</td>\n",
       "      <td>1096800</td>\n",
       "    </tr>\n",
       "    <tr>\n",
       "      <th>2021-09-02</th>\n",
       "      <td>2904.320068</td>\n",
       "      <td>2910.389893</td>\n",
       "      <td>2863.699951</td>\n",
       "      <td>2865.739990</td>\n",
       "      <td>2865.739990</td>\n",
       "      <td>1617100</td>\n",
       "    </tr>\n",
       "    <tr>\n",
       "      <th>2021-09-03</th>\n",
       "      <td>2861.610107</td>\n",
       "      <td>2883.100098</td>\n",
       "      <td>2848.010010</td>\n",
       "      <td>2874.790039</td>\n",
       "      <td>2874.790039</td>\n",
       "      <td>992500</td>\n",
       "    </tr>\n",
       "  </tbody>\n",
       "</table>\n",
       "</div>"
      ],
      "text/plain": [
       "                   Open         High          Low        Close    Adj Close  \\\n",
       "Date                                                                          \n",
       "2021-08-30  2888.000000  2919.409912  2883.260010  2891.810059  2891.810059   \n",
       "2021-08-31  2902.939941  2903.429932  2885.620117  2893.949951  2893.949951   \n",
       "2021-09-01  2900.000000  2925.080078  2897.669922  2904.310059  2904.310059   \n",
       "2021-09-02  2904.320068  2910.389893  2863.699951  2865.739990  2865.739990   \n",
       "2021-09-03  2861.610107  2883.100098  2848.010010  2874.790039  2874.790039   \n",
       "\n",
       "             Volume  \n",
       "Date                 \n",
       "2021-08-30  1221700  \n",
       "2021-08-31  1122400  \n",
       "2021-09-01  1096800  \n",
       "2021-09-02  1617100  \n",
       "2021-09-03   992500  "
      ]
     },
     "execution_count": 7,
     "metadata": {},
     "output_type": "execute_result"
    }
   ],
   "source": [
    "stock_data.tail()"
   ]
  },
  {
   "cell_type": "code",
   "execution_count": 8,
   "id": "681bb7f3-c9dc-4e12-930a-c005de6e25e7",
   "metadata": {},
   "outputs": [
    {
     "data": {
      "image/png": "[encoded data removed]",
      "text/plain": [
       "<Figure size 432x288 with 1 Axes>"
      ]
     },
     "metadata": {
      "needs_background": "light"
     },
     "output_type": "display_data"
    }
   ],
   "source": [
    "stock_data['Adj Close'].plot()\n",
    "plt.ylabel(\"Adjusted Close Prices\")\n",
    "plt.show()"
   ]
  },
  {
   "cell_type": "code",
   "execution_count": 9,
   "id": "4ebfb1a9-be5c-43df-b15b-0dfdbf7c129d",
   "metadata": {},
   "outputs": [
    {
     "data": {
      "image/png": "[encoded data removed]",
      "text/plain": [
       "<Figure size 432x288 with 1 Axes>"
      ]
     },
     "metadata": {
      "needs_background": "light"
     },
     "output_type": "display_data"
    }
   ],
   "source": [
    "stock_data['Adj Close'].pct_change().plot.hist(bins=50)\n",
    "plt.xlabel(\"Adjusted close 1 day percent change\")\n",
    "plt.show()"
   ]
  },
  {
   "cell_type": "code",
   "execution_count": 30,
   "id": "403c35f2-9eec-43d9-8711-d5f234fb5a5d",
   "metadata": {},
   "outputs": [],
   "source": [
    "feature_names = []\n",
    "for n in [14, 30, 50, 200]:\n",
    "    stock_data['ma' + str(n)] = talib.SMA(stock_data['Adj Close'].values, timeperiod=n)\n",
    "    stock_data['rsi' + str(n)] = talib.RSI(stock_data['Adj Close'].values, timeperiod=n)\n",
    "\n",
    "    feature_names = feature_names + ['ma' + str(n), 'rsi' + str(n)]"
   ]
  },
  {
   "cell_type": "code",
   "execution_count": 31,
   "id": "ed6ae9b4-7343-4f4d-9601-e3e2937184c0",
   "metadata": {},
   "outputs": [
    {
     "data": {
      "text/plain": [
       "['ma14',\n",
       " 'rsi14',\n",
       " 'ma30',\n",
       " 'rsi30',\n",
       " 'ma50',\n",
       " 'rsi50',\n",
       " 'ma200',\n",
       " 'rsi200',\n",
       " 'Volume_1d_change']"
      ]
     },
     "execution_count": 31,
     "metadata": {},
     "output_type": "execute_result"
    }
   ],
   "source": [
    "stock_data['Volume_1d_change'] = stock_data['Volume'].pct_change()\n",
    "\n",
    "volume_features = ['Volume_1d_change']\n",
    "feature_names.extend(volume_features)\n",
    "feature_names"
   ]
  },
  {
   "cell_type": "code",
   "execution_count": 32,
   "id": "c2cba1ac-db78-43cd-a4f3-fa5fe135a304",
   "metadata": {},
   "outputs": [],
   "source": [
    "stock_data['5d_future_close'] = stock_data['Adj Close'].shift(-5)\n",
    "stock_data['5d_close_future_pct'] = stock_data['5d_future_close'].pct_change(5)"
   ]
  },
  {
   "cell_type": "code",
   "execution_count": 33,
   "id": "482877d4-d0dc-4c5b-8c9a-f854609d8328",
   "metadata": {},
   "outputs": [
    {
     "data": {
      "text/html": [
       "<div>\n",
       "<style scoped>\n",
       "    .dataframe tbody tr th:only-of-type {\n",
       "        vertical-align: middle;\n",
       "    }\n",
       "\n",
       "    .dataframe tbody tr th {\n",
       "        vertical-align: top;\n",
       "    }\n",
       "\n",
       "    .dataframe thead th {\n",
       "        text-align: right;\n",
       "    }\n",
       "</style>\n",
       "<table border=\"1\" class=\"dataframe\">\n",
       "  <thead>\n",
       "    <tr style=\"text-align: right;\">\n",
       "      <th></th>\n",
       "      <th>Open</th>\n",
       "      <th>High</th>\n",
       "      <th>Low</th>\n",
       "      <th>Close</th>\n",
       "      <th>Adj Close</th>\n",
       "      <th>Volume</th>\n",
       "      <th>ma14</th>\n",
       "      <th>rsi14</th>\n",
       "      <th>ma30</th>\n",
       "      <th>rsi30</th>\n",
       "      <th>ma50</th>\n",
       "      <th>rsi50</th>\n",
       "      <th>ma200</th>\n",
       "      <th>rsi200</th>\n",
       "      <th>Volume_1d_change</th>\n",
       "      <th>5d_future_close</th>\n",
       "      <th>5d_close_future_pct</th>\n",
       "    </tr>\n",
       "    <tr>\n",
       "      <th>Date</th>\n",
       "      <th></th>\n",
       "      <th></th>\n",
       "      <th></th>\n",
       "      <th></th>\n",
       "      <th></th>\n",
       "      <th></th>\n",
       "      <th></th>\n",
       "      <th></th>\n",
       "      <th></th>\n",
       "      <th></th>\n",
       "      <th></th>\n",
       "      <th></th>\n",
       "      <th></th>\n",
       "      <th></th>\n",
       "      <th></th>\n",
       "      <th></th>\n",
       "      <th></th>\n",
       "    </tr>\n",
       "  </thead>\n",
       "  <tbody>\n",
       "    <tr>\n",
       "      <th>2021-08-23</th>\n",
       "      <td>2759.389893</td>\n",
       "      <td>2817.489990</td>\n",
       "      <td>2752.149902</td>\n",
       "      <td>2800.830078</td>\n",
       "      <td>2800.830078</td>\n",
       "      <td>1422700</td>\n",
       "      <td>2736.581438</td>\n",
       "      <td>69.709597</td>\n",
       "      <td>2671.967342</td>\n",
       "      <td>67.412363</td>\n",
       "      <td>2588.209399</td>\n",
       "      <td>65.478569</td>\n",
       "      <td>2170.134798</td>\n",
       "      <td>59.937773</td>\n",
       "      <td>-0.087194</td>\n",
       "      <td>NaN</td>\n",
       "      <td>0.028295</td>\n",
       "    </tr>\n",
       "    <tr>\n",
       "      <th>2021-08-24</th>\n",
       "      <td>2812.229980</td>\n",
       "      <td>2841.600098</td>\n",
       "      <td>2806.770020</td>\n",
       "      <td>2825.229980</td>\n",
       "      <td>2825.229980</td>\n",
       "      <td>963400</td>\n",
       "      <td>2745.347151</td>\n",
       "      <td>72.008438</td>\n",
       "      <td>2681.247339</td>\n",
       "      <td>68.593298</td>\n",
       "      <td>2595.735801</td>\n",
       "      <td>66.221638</td>\n",
       "      <td>2175.448448</td>\n",
       "      <td>60.159166</td>\n",
       "      <td>-0.322837</td>\n",
       "      <td>NaN</td>\n",
       "      <td>0.019414</td>\n",
       "    </tr>\n",
       "    <tr>\n",
       "      <th>2021-08-25</th>\n",
       "      <td>2832.500000</td>\n",
       "      <td>2843.790039</td>\n",
       "      <td>2827.520020</td>\n",
       "      <td>2841.580078</td>\n",
       "      <td>2841.580078</td>\n",
       "      <td>792400</td>\n",
       "      <td>2753.672154</td>\n",
       "      <td>73.461858</td>\n",
       "      <td>2690.475342</td>\n",
       "      <td>69.362918</td>\n",
       "      <td>2603.999604</td>\n",
       "      <td>66.711575</td>\n",
       "      <td>2180.857698</td>\n",
       "      <td>60.306891</td>\n",
       "      <td>-0.177496</td>\n",
       "      <td>NaN</td>\n",
       "      <td>0.013549</td>\n",
       "    </tr>\n",
       "    <tr>\n",
       "      <th>2021-08-26</th>\n",
       "      <td>2835.000000</td>\n",
       "      <td>2848.350098</td>\n",
       "      <td>2827.139893</td>\n",
       "      <td>2828.810059</td>\n",
       "      <td>2828.810059</td>\n",
       "      <td>1030500</td>\n",
       "      <td>2761.817871</td>\n",
       "      <td>70.387764</td>\n",
       "      <td>2700.099007</td>\n",
       "      <td>68.016249</td>\n",
       "      <td>2612.266807</td>\n",
       "      <td>65.949222</td>\n",
       "      <td>2186.194648</td>\n",
       "      <td>60.131875</td>\n",
       "      <td>0.300480</td>\n",
       "      <td>NaN</td>\n",
       "      <td>0.018124</td>\n",
       "    </tr>\n",
       "    <tr>\n",
       "      <th>2021-08-27</th>\n",
       "      <td>2833.050049</td>\n",
       "      <td>2890.250000</td>\n",
       "      <td>2829.939941</td>\n",
       "      <td>2880.080078</td>\n",
       "      <td>2880.080078</td>\n",
       "      <td>1438600</td>\n",
       "      <td>2771.947876</td>\n",
       "      <td>74.924658</td>\n",
       "      <td>2711.455013</td>\n",
       "      <td>70.402843</td>\n",
       "      <td>2621.171006</td>\n",
       "      <td>67.472073</td>\n",
       "      <td>2191.906449</td>\n",
       "      <td>60.593330</td>\n",
       "      <td>0.396021</td>\n",
       "      <td>NaN</td>\n",
       "      <td>0.000000</td>\n",
       "    </tr>\n",
       "  </tbody>\n",
       "</table>\n",
       "</div>"
      ],
      "text/plain": [
       "                   Open         High          Low        Close    Adj Close  \\\n",
       "Date                                                                          \n",
       "2021-08-23  2759.389893  2817.489990  2752.149902  2800.830078  2800.830078   \n",
       "2021-08-24  2812.229980  2841.600098  2806.770020  2825.229980  2825.229980   \n",
       "2021-08-25  2832.500000  2843.790039  2827.520020  2841.580078  2841.580078   \n",
       "2021-08-26  2835.000000  2848.350098  2827.139893  2828.810059  2828.810059   \n",
       "2021-08-27  2833.050049  2890.250000  2829.939941  2880.080078  2880.080078   \n",
       "\n",
       "             Volume         ma14      rsi14         ma30      rsi30  \\\n",
       "Date                                                                  \n",
       "2021-08-23  1422700  2736.581438  69.709597  2671.967342  67.412363   \n",
       "2021-08-24   963400  2745.347151  72.008438  2681.247339  68.593298   \n",
       "2021-08-25   792400  2753.672154  73.461858  2690.475342  69.362918   \n",
       "2021-08-26  1030500  2761.817871  70.387764  2700.099007  68.016249   \n",
       "2021-08-27  1438600  2771.947876  74.924658  2711.455013  70.402843   \n",
       "\n",
       "                   ma50      rsi50        ma200     rsi200  Volume_1d_change  \\\n",
       "Date                                                                           \n",
       "2021-08-23  2588.209399  65.478569  2170.134798  59.937773         -0.087194   \n",
       "2021-08-24  2595.735801  66.221638  2175.448448  60.159166         -0.322837   \n",
       "2021-08-25  2603.999604  66.711575  2180.857698  60.306891         -0.177496   \n",
       "2021-08-26  2612.266807  65.949222  2186.194648  60.131875          0.300480   \n",
       "2021-08-27  2621.171006  67.472073  2191.906449  60.593330          0.396021   \n",
       "\n",
       "            5d_future_close  5d_close_future_pct  \n",
       "Date                                              \n",
       "2021-08-23              NaN             0.028295  \n",
       "2021-08-24              NaN             0.019414  \n",
       "2021-08-25              NaN             0.013549  \n",
       "2021-08-26              NaN             0.018124  \n",
       "2021-08-27              NaN             0.000000  "
      ]
     },
     "execution_count": 33,
     "metadata": {},
     "output_type": "execute_result"
    }
   ],
   "source": [
    "stock_data.tail()"
   ]
  },
  {
   "cell_type": "code",
   "execution_count": 34,
   "id": "c522e6fe-8002-4759-8e8e-428f4f790f43",
   "metadata": {},
   "outputs": [],
   "source": [
    "stock_data.dropna(inplace=True)\n",
    "\n",
    "X = stock_data[feature_names]\n",
    "# y = stock_data['5d_close_future_pct']\n",
    "y = stock_data['5d_future_close']\n",
    "\n",
    "train_size = int(0.85 * y.shape[0])\n",
    "X_train = X[:train_size]\n",
    "y_train = y[:train_size]\n",
    "X_test = X[train_size:]\n",
    "y_test = y[train_size:]"
   ]
  },
  {
   "cell_type": "code",
   "execution_count": 35,
   "id": "de52c5d5-2d0f-4e69-8014-9f23f28e4e99",
   "metadata": {},
   "outputs": [
    {
     "name": "stdout",
     "output_type": "stream",
     "text": [
      "-4.446787294599674 {'random_state': 42, 'n_estimators': 200, 'max_features': 8, 'max_depth': 3}\n"
     ]
    }
   ],
   "source": [
    "grid = {'n_estimators': [200], 'max_depth': [3], 'max_features': [4, 8], 'random_state': [42]}\n",
    "test_scores = []\n",
    "\n",
    "rf_model = RandomForestRegressor()\n",
    "\n",
    "for g in ParameterGrid(grid):\n",
    "    rf_model.set_params(**g) \n",
    "    rf_model.fit(X_train, y_train)\n",
    "    test_scores.append(rf_model.score(X_test, y_test))\n",
    "\n",
    "best_index = np.argmax(test_scores)\n",
    "print(test_scores[best_index], ParameterGrid(grid)[best_index])"
   ]
  },
  {
   "cell_type": "code",
   "execution_count": 36,
   "id": "a78ee193-b841-4681-8c91-4844c88ccfd4",
   "metadata": {},
   "outputs": [
    {
     "data": {
      "image/png": "[encoded data removed]",
      "text/plain": [
       "<Figure size 432x288 with 1 Axes>"
      ]
     },
     "metadata": {
      "needs_background": "light"
     },
     "output_type": "display_data"
    }
   ],
   "source": [
    "\n",
    "rf_model = RandomForestRegressor(n_estimators=200, max_depth=3, max_features=8, random_state=42)\n",
    "rf_model.fit(X_train, y_train)\n",
    "\n",
    "y_pred = rf_model.predict(X_test)\n",
    "\n",
    "y_pred_series = pd.Series(y_pred, index=y_test.index)\n",
    "y_test_series = pd.Series(y_test, index=y_test.index)\n",
    "y_pred_series.plot(color='blue')\n",
    "y_test_series.plot(color='red')\n",
    "plt.ylabel(\"Predicted 5 Day Close Price\")\n",
    "# plt.ylabel(\"Predicted 5 Day Close Price Change Percent\")\n",
    "plt.show()"
   ]
  },
  {
   "cell_type": "code",
   "execution_count": 17,
   "id": "db096b5a-d440-42b0-a544-8050983f32a4",
   "metadata": {},
   "outputs": [
    {
     "name": "stdout",
     "output_type": "stream",
     "text": [
      "Mean Absolute Error: 0.03890003691855319\n",
      "Mean Squared Error: 0.0022277209085240827\n",
      "Root Mean Squared Error: 0.047198738420895135\n"
     ]
    }
   ],
   "source": [
    "print('Mean Absolute Error:', metrics.mean_absolute_error(y_test, y_pred))\n",
    "print('Mean Squared Error:', metrics.mean_squared_error(y_test, y_pred))\n",
    "print('Root Mean Squared Error:', np.sqrt(metrics.mean_squared_error(y_test, y_pred)))"
   ]
  },
  {
   "cell_type": "code",
   "execution_count": 18,
   "id": "06adb5a2-a138-439d-87a4-4b48b4cf19f3",
   "metadata": {},
   "outputs": [
    {
     "data": {
      "image/png": "[encoded data removed]",
      "text/plain": [
       "<Figure size 432x288 with 1 Axes>"
      ]
     },
     "metadata": {
      "needs_background": "light"
     },
     "output_type": "display_data"
    }
   ],
   "source": [
    "importances = rf_model.feature_importances_\n",
    "sorted_index = np.argsort(importances)[::-1]\n",
    "x_values = range(len(importances))\n",
    "labels = np.array(feature_names)[sorted_index]\n",
    "plt.bar(x_values, importances[sorted_index], tick_label=labels)\n",
    "plt.xticks(rotation=90)\n",
    "plt.show()"
   ]
  },
  {
   "cell_type": "code",
   "execution_count": null,
   "id": "a6753398-d2cf-4dc8-8956-8884738c85bb",
   "metadata": {},
   "outputs": [],
   "source": []
  }
 ],
 "metadata": {
  "kernelspec": {
   "display_name": "Feast Env",
   "language": "python",
   "name": "feast-conda-env"
  },
  "language_info": {
   "codemirror_mode": {
    "name": "ipython",
    "version": 3
   },
   "file_extension": ".py",
   "mimetype": "text/x-python",
   "name": "python",
   "nbconvert_exporter": "python",
   "pygments_lexer": "ipython3",
   "version": "3.9.7"
  }
 },
 "nbformat": 4,
 "nbformat_minor": 5
}
