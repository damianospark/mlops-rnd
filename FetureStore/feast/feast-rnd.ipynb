{
 "cells": [
  {
   "cell_type": "markdown",
   "id": "1c168f62-a7fd-4fd6-9fd8-f240757359bf",
   "metadata": {},
   "source": [
    "## Setup environment"
   ]
  },
  {
   "cell_type": "markdown",
   "id": "8cf658a1-5eaf-4c4f-8d49-887510b36000",
   "metadata": {},
   "source": [
    "Before execute next cell you should run a command in a terminal as follows\n",
    "```bash\n",
    " source /workspace/FeatureStore/feast/install-venv.sh\n",
    "```\n",
    "\n",
    "Change kernel to \"Py3.7 (Feast)\" and run cells orderly as below "
   ]
  },
  {
   "cell_type": "code",
   "execution_count": 1,
   "id": "e4eb1484-db5a-4b77-ad86-1bd1bd65d370",
   "metadata": {},
   "outputs": [
    {
     "name": "stdout",
     "output_type": "stream",
     "text": [
      "Found existing installation: luigi 3.0.3\n",
      "Uninstalling luigi-3.0.3:\n",
      "  Would remove:\n",
      "    /opt/conda/bin/luigi\n",
      "    /opt/conda/bin/luigi-deps\n",
      "    /opt/conda/bin/luigi-deps-tree\n",
      "    /opt/conda/bin/luigi-grep\n",
      "    /opt/conda/bin/luigid\n",
      "    /opt/conda/lib/python3.8/site-packages/luigi-3.0.3.dist-info/*\n",
      "    /opt/conda/lib/python3.8/site-packages/luigi/*\n",
      "Proceed (Y/n)?   Successfully uninstalled luigi-3.0.3\n",
      "\u001b[33mWARNING: Running pip as the 'root' user can result in broken permissions and conflicting behaviour with the system package manager. It is recommended to use a virtual environment instead: https://pip.pypa.io/warnings/venv\u001b[0m\n",
      "yes: standard output: Broken pipe\n"
     ]
    }
   ],
   "source": [
    "!yes | pip uninstall luigi"
   ]
  },
  {
   "cell_type": "code",
   "execution_count": 3,
   "id": "9719b3b8-78e6-4962-92f8-09eb61f68784",
   "metadata": {},
   "outputs": [
    {
     "name": "stdout",
     "output_type": "stream",
     "text": [
      "Requirement already satisfied: feast[gcp] in /opt/conda/lib/python3.8/site-packages (0.12.1)\n",
      "Requirement already satisfied: jsonschema in /opt/conda/lib/python3.8/site-packages (from feast[gcp]) (3.2.0)\n",
      "Requirement already satisfied: grpcio>=1.34.0 in /opt/conda/lib/python3.8/site-packages (from feast[gcp]) (1.39.0)\n",
      "Requirement already satisfied: pandas>=1.0.0 in /opt/conda/lib/python3.8/site-packages (from feast[gcp]) (1.2.5)\n",
      "Requirement already satisfied: mmh3 in /opt/conda/lib/python3.8/site-packages (from feast[gcp]) (3.0.0)\n",
      "Requirement already satisfied: pyarrow>=2.0.0 in /opt/conda/lib/python3.8/site-packages (from feast[gcp]) (4.0.1)\n",
      "Requirement already satisfied: pandavro==1.5.* in /opt/conda/lib/python3.8/site-packages (from feast[gcp]) (1.5.2)\n",
      "Requirement already satisfied: colorama>=0.3.9 in /opt/conda/lib/python3.8/site-packages (from feast[gcp]) (0.4.4)\n",
      "Requirement already satisfied: tqdm==4.* in /opt/conda/lib/python3.8/site-packages (from feast[gcp]) (4.62.2)\n",
      "Requirement already satisfied: tenacity>=7.* in /opt/conda/lib/python3.8/site-packages (from feast[gcp]) (8.0.1)\n",
      "Requirement already satisfied: Jinja2>=2.0.0 in /opt/conda/lib/python3.8/site-packages (from feast[gcp]) (3.0.1)\n",
      "Requirement already satisfied: toml==0.10.* in /opt/conda/lib/python3.8/site-packages (from feast[gcp]) (0.10.2)\n",
      "Requirement already satisfied: google-api-core>=1.23.0 in /opt/conda/lib/python3.8/site-packages (from feast[gcp]) (1.31.0)\n",
      "Requirement already satisfied: Click==7.* in /opt/conda/lib/python3.8/site-packages (from feast[gcp]) (7.1.2)\n",
      "Requirement already satisfied: pydantic>=1.0.0 in /opt/conda/lib/python3.8/site-packages (from feast[gcp]) (1.7.4)\n",
      "Requirement already satisfied: PyYAML>=5.4.* in /opt/conda/lib/python3.8/site-packages (from feast[gcp]) (5.4.1)\n",
      "Requirement already satisfied: protobuf>=3.10 in /opt/conda/lib/python3.8/site-packages (from feast[gcp]) (3.17.3)\n",
      "Requirement already satisfied: fastavro>=1.1.0 in /opt/conda/lib/python3.8/site-packages (from feast[gcp]) (1.4.4)\n",
      "Requirement already satisfied: tabulate==0.8.* in /opt/conda/lib/python3.8/site-packages (from feast[gcp]) (0.8.9)\n",
      "Requirement already satisfied: googleapis-common-protos==1.52.* in /opt/conda/lib/python3.8/site-packages (from feast[gcp]) (1.52.0)\n",
      "Requirement already satisfied: google-cloud-storage>=1.34.* in /opt/conda/lib/python3.8/site-packages (from feast[gcp]) (1.39.0)\n",
      "Requirement already satisfied: google-cloud-bigquery>=2.0.* in /opt/conda/lib/python3.8/site-packages (from feast[gcp]) (2.26.0)\n",
      "Requirement already satisfied: google-cloud-bigquery-storage>=2.0.0 in /opt/conda/lib/python3.8/site-packages (from feast[gcp]) (2.6.3)\n",
      "Collecting google-cloud-datastore>=2.1.*\n",
      "  Downloading google_cloud_datastore-2.1.6-py2.py3-none-any.whl (127 kB)\n",
      "\u001b[K     |████████████████████████████████| 127 kB 1.5 MB/s eta 0:00:01\n",
      "\u001b[?25hCollecting google-cloud-core==1.4.*\n",
      "  Downloading google_cloud_core-1.4.4-py2.py3-none-any.whl (27 kB)\n",
      "Requirement already satisfied: six>=1.12.0 in /opt/conda/lib/python3.8/site-packages (from google-cloud-core==1.4.*->feast[gcp]) (1.15.0)\n",
      "Requirement already satisfied: numpy>=1.7.0 in /opt/conda/lib/python3.8/site-packages (from pandavro==1.5.*->feast[gcp]) (1.21.2)\n",
      "Requirement already satisfied: setuptools>=40.3.0 in /opt/conda/lib/python3.8/site-packages (from google-api-core>=1.23.0->feast[gcp]) (57.4.0)\n",
      "Requirement already satisfied: google-auth<2.0dev,>=1.25.0 in /opt/conda/lib/python3.8/site-packages (from google-api-core>=1.23.0->feast[gcp]) (1.32.1)\n",
      "Requirement already satisfied: pytz in /opt/conda/lib/python3.8/site-packages (from google-api-core>=1.23.0->feast[gcp]) (2021.1)\n",
      "Requirement already satisfied: requests<3.0.0dev,>=2.18.0 in /opt/conda/lib/python3.8/site-packages (from google-api-core>=1.23.0->feast[gcp]) (2.26.0)\n",
      "Requirement already satisfied: packaging>=14.3 in /opt/conda/lib/python3.8/site-packages (from google-api-core>=1.23.0->feast[gcp]) (20.9)\n",
      "Requirement already satisfied: pyasn1-modules>=0.2.1 in /opt/conda/lib/python3.8/site-packages (from google-auth<2.0dev,>=1.25.0->google-api-core>=1.23.0->feast[gcp]) (0.2.8)\n",
      "Requirement already satisfied: rsa<5,>=3.1.4 in /opt/conda/lib/python3.8/site-packages (from google-auth<2.0dev,>=1.25.0->google-api-core>=1.23.0->feast[gcp]) (4.7.2)\n",
      "Requirement already satisfied: cachetools<5.0,>=2.0.0 in /opt/conda/lib/python3.8/site-packages (from google-auth<2.0dev,>=1.25.0->google-api-core>=1.23.0->feast[gcp]) (4.2.2)\n",
      "Requirement already satisfied: proto-plus>=1.10.0 in /opt/conda/lib/python3.8/site-packages (from google-cloud-bigquery>=2.0.*->feast[gcp]) (1.19.0)\n",
      "Requirement already satisfied: google-resumable-media<3.0dev,>=0.6.0 in /opt/conda/lib/python3.8/site-packages (from google-cloud-bigquery>=2.0.*->feast[gcp]) (1.3.1)\n",
      "Requirement already satisfied: libcst>=0.2.5 in /opt/conda/lib/python3.8/site-packages (from google-cloud-bigquery-storage>=2.0.0->feast[gcp]) (0.3.20)\n",
      "Requirement already satisfied: google-crc32c<2.0dev,>=1.0 in /opt/conda/lib/python3.8/site-packages (from google-resumable-media<3.0dev,>=0.6.0->google-cloud-bigquery>=2.0.*->feast[gcp]) (1.1.2)\n",
      "Requirement already satisfied: cffi>=1.0.0 in /opt/conda/lib/python3.8/site-packages (from google-crc32c<2.0dev,>=1.0->google-resumable-media<3.0dev,>=0.6.0->google-cloud-bigquery>=2.0.*->feast[gcp]) (1.14.5)\n",
      "Requirement already satisfied: pycparser in /opt/conda/lib/python3.8/site-packages (from cffi>=1.0.0->google-crc32c<2.0dev,>=1.0->google-resumable-media<3.0dev,>=0.6.0->google-cloud-bigquery>=2.0.*->feast[gcp]) (2.20)\n",
      "Requirement already satisfied: MarkupSafe>=2.0 in /opt/conda/lib/python3.8/site-packages (from Jinja2>=2.0.0->feast[gcp]) (2.0.1)\n",
      "Requirement already satisfied: typing-inspect>=0.4.0 in /opt/conda/lib/python3.8/site-packages (from libcst>=0.2.5->google-cloud-bigquery-storage>=2.0.0->feast[gcp]) (0.7.1)\n",
      "Requirement already satisfied: typing-extensions>=3.7.4.2 in /opt/conda/lib/python3.8/site-packages (from libcst>=0.2.5->google-cloud-bigquery-storage>=2.0.0->feast[gcp]) (3.7.4.3)\n",
      "Requirement already satisfied: pyparsing>=2.0.2 in /opt/conda/lib/python3.8/site-packages (from packaging>=14.3->google-api-core>=1.23.0->feast[gcp]) (2.4.7)\n",
      "Requirement already satisfied: python-dateutil>=2.7.3 in /opt/conda/lib/python3.8/site-packages (from pandas>=1.0.0->feast[gcp]) (2.8.2)\n",
      "Requirement already satisfied: pyasn1<0.5.0,>=0.4.6 in /opt/conda/lib/python3.8/site-packages (from pyasn1-modules>=0.2.1->google-auth<2.0dev,>=1.25.0->google-api-core>=1.23.0->feast[gcp]) (0.4.8)\n",
      "Requirement already satisfied: urllib3<1.27,>=1.21.1 in /opt/conda/lib/python3.8/site-packages (from requests<3.0.0dev,>=2.18.0->google-api-core>=1.23.0->feast[gcp]) (1.26.6)\n",
      "Requirement already satisfied: charset-normalizer~=2.0.0 in /opt/conda/lib/python3.8/site-packages (from requests<3.0.0dev,>=2.18.0->google-api-core>=1.23.0->feast[gcp]) (2.0.4)\n",
      "Requirement already satisfied: idna<4,>=2.5 in /opt/conda/lib/python3.8/site-packages (from requests<3.0.0dev,>=2.18.0->google-api-core>=1.23.0->feast[gcp]) (3.2)\n",
      "Requirement already satisfied: certifi>=2017.4.17 in /opt/conda/lib/python3.8/site-packages (from requests<3.0.0dev,>=2.18.0->google-api-core>=1.23.0->feast[gcp]) (2021.5.30)\n",
      "Requirement already satisfied: mypy-extensions>=0.3.0 in /opt/conda/lib/python3.8/site-packages (from typing-inspect>=0.4.0->libcst>=0.2.5->google-cloud-bigquery-storage>=2.0.0->feast[gcp]) (0.4.3)\n",
      "Requirement already satisfied: pyrsistent>=0.14.0 in /opt/conda/lib/python3.8/site-packages (from jsonschema->feast[gcp]) (0.17.3)\n",
      "Requirement already satisfied: attrs>=17.4.0 in /opt/conda/lib/python3.8/site-packages (from jsonschema->feast[gcp]) (21.2.0)\n",
      "Installing collected packages: google-cloud-core, google-cloud-datastore\n",
      "  Attempting uninstall: google-cloud-core\n",
      "    Found existing installation: google-cloud-core 1.7.1\n",
      "    Uninstalling google-cloud-core-1.7.1:\n",
      "      Successfully uninstalled google-cloud-core-1.7.1\n",
      "Successfully installed google-cloud-core-1.4.4 google-cloud-datastore-2.1.6\n",
      "\u001b[33mWARNING: Running pip as the 'root' user can result in broken permissions and conflicting behaviour with the system package manager. It is recommended to use a virtual environment instead: https://pip.pypa.io/warnings/venv\u001b[0m\n"
     ]
    }
   ],
   "source": [
    "!pip install 'feast[gcp]'"
   ]
  },
  {
   "cell_type": "code",
   "execution_count": 4,
   "id": "9cedd48c-f153-4118-97e4-62ea4e991177",
   "metadata": {},
   "outputs": [
    {
     "name": "stdout",
     "output_type": "stream",
     "text": [
      "\n",
      "Creating a new Feast repository in /workspace/FetureStore/feast/striking_cheetah.\n",
      "\n"
     ]
    }
   ],
   "source": [
    "%%bash\n",
    "feast init -t gcp\n"
   ]
  },
  {
   "cell_type": "code",
   "execution_count": null,
   "id": "f9c04ff8-53b8-401d-a855-89f4cbbd8b17",
   "metadata": {},
   "outputs": [],
   "source": []
  }
 ],
 "metadata": {
  "kernelspec": {
   "display_name": "Py3.7 (Feast)",
   "language": "python",
   "name": "feast-conda-env"
  },
  "language_info": {
   "codemirror_mode": {
    "name": "ipython",
    "version": 3
   },
   "file_extension": ".py",
   "mimetype": "text/x-python",
   "name": "python",
   "nbconvert_exporter": "python",
   "pygments_lexer": "ipython3",
   "version": "3.7.11"
  }
 },
 "nbformat": 4,
 "nbformat_minor": 5
}
