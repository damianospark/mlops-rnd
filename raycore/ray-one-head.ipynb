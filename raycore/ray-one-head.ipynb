{
 "cells": [
  {
   "cell_type": "code",
   "execution_count": 5,
   "id": "b0b15950-f55c-4302-9c3d-92b528e6903a",
   "metadata": {
    "execution": {
     "iopub.execute_input": "2021-08-29T16:54:29.254307Z",
     "iopub.status.busy": "2021-08-29T16:54:29.254094Z",
     "iopub.status.idle": "2021-08-29T16:54:29.260910Z",
     "shell.execute_reply": "2021-08-29T16:54:29.259953Z",
     "shell.execute_reply.started": "2021-08-29T16:54:29.254288Z"
    },
    "tags": []
   },
   "outputs": [
    {
     "data": {
      "application/json": {
       "cell": {
        "!": "OSMagics",
        "HTML": "Other",
        "SVG": "Other",
        "bash": "Other",
        "capture": "ExecutionMagics",
        "debug": "ExecutionMagics",
        "file": "Other",
        "html": "DisplayMagics",
        "javascript": "DisplayMagics",
        "js": "DisplayMagics",
        "latex": "DisplayMagics",
        "markdown": "DisplayMagics",
        "perl": "Other",
        "prun": "ExecutionMagics",
        "pypy": "Other",
        "python": "Other",
        "python2": "Other",
        "python3": "Other",
        "ruby": "Other",
        "script": "ScriptMagics",
        "sh": "Other",
        "svg": "DisplayMagics",
        "sx": "OSMagics",
        "system": "OSMagics",
        "time": "ExecutionMagics",
        "timeit": "ExecutionMagics",
        "writefile": "OSMagics"
       },
       "line": {
        "alias": "OSMagics",
        "alias_magic": "BasicMagics",
        "autoawait": "AsyncMagics",
        "autocall": "AutoMagics",
        "automagic": "AutoMagics",
        "autosave": "KernelMagics",
        "bookmark": "OSMagics",
        "cat": "Other",
        "cd": "OSMagics",
        "clear": "KernelMagics",
        "colors": "BasicMagics",
        "conda": "PackagingMagics",
        "config": "ConfigMagics",
        "connect_info": "KernelMagics",
        "cp": "Other",
        "debug": "ExecutionMagics",
        "dhist": "OSMagics",
        "dirs": "OSMagics",
        "doctest_mode": "BasicMagics",
        "ed": "Other",
        "edit": "KernelMagics",
        "env": "OSMagics",
        "gui": "BasicMagics",
        "hist": "Other",
        "history": "HistoryMagics",
        "killbgscripts": "ScriptMagics",
        "ldir": "Other",
        "less": "KernelMagics",
        "lf": "Other",
        "lk": "Other",
        "ll": "Other",
        "load": "CodeMagics",
        "load_ext": "ExtensionMagics",
        "loadpy": "CodeMagics",
        "logoff": "LoggingMagics",
        "logon": "LoggingMagics",
        "logstart": "LoggingMagics",
        "logstate": "LoggingMagics",
        "logstop": "LoggingMagics",
        "ls": "Other",
        "lsmagic": "BasicMagics",
        "lx": "Other",
        "macro": "ExecutionMagics",
        "magic": "BasicMagics",
        "man": "KernelMagics",
        "matplotlib": "PylabMagics",
        "mkdir": "Other",
        "more": "KernelMagics",
        "mv": "Other",
        "notebook": "BasicMagics",
        "page": "BasicMagics",
        "pastebin": "CodeMagics",
        "pdb": "ExecutionMagics",
        "pdef": "NamespaceMagics",
        "pdoc": "NamespaceMagics",
        "pfile": "NamespaceMagics",
        "pinfo": "NamespaceMagics",
        "pinfo2": "NamespaceMagics",
        "pip": "PackagingMagics",
        "popd": "OSMagics",
        "pprint": "BasicMagics",
        "precision": "BasicMagics",
        "prun": "ExecutionMagics",
        "psearch": "NamespaceMagics",
        "psource": "NamespaceMagics",
        "pushd": "OSMagics",
        "pwd": "OSMagics",
        "pycat": "OSMagics",
        "pylab": "PylabMagics",
        "qtconsole": "KernelMagics",
        "quickref": "BasicMagics",
        "recall": "HistoryMagics",
        "rehashx": "OSMagics",
        "reload_ext": "ExtensionMagics",
        "rep": "Other",
        "rerun": "HistoryMagics",
        "reset": "NamespaceMagics",
        "reset_selective": "NamespaceMagics",
        "rm": "Other",
        "rmdir": "Other",
        "run": "ExecutionMagics",
        "save": "CodeMagics",
        "sc": "OSMagics",
        "set_env": "OSMagics",
        "store": "StoreMagics",
        "sx": "OSMagics",
        "system": "OSMagics",
        "tb": "ExecutionMagics",
        "time": "ExecutionMagics",
        "timeit": "ExecutionMagics",
        "unalias": "OSMagics",
        "unload_ext": "ExtensionMagics",
        "who": "NamespaceMagics",
        "who_ls": "NamespaceMagics",
        "whos": "NamespaceMagics",
        "xdel": "NamespaceMagics",
        "xmode": "BasicMagics"
       }
      },
      "text/plain": [
       "Available line magics:\n",
       "%alias  %alias_magic  %autoawait  %autocall  %automagic  %autosave  %bookmark  %cat  %cd  %clear  %colors  %conda  %config  %connect_info  %cp  %debug  %dhist  %dirs  %doctest_mode  %ed  %edit  %env  %gui  %hist  %history  %killbgscripts  %ldir  %less  %lf  %lk  %ll  %load  %load_ext  %loadpy  %logoff  %logon  %logstart  %logstate  %logstop  %ls  %lsmagic  %lx  %macro  %magic  %man  %matplotlib  %mkdir  %more  %mv  %notebook  %page  %pastebin  %pdb  %pdef  %pdoc  %pfile  %pinfo  %pinfo2  %pip  %popd  %pprint  %precision  %prun  %psearch  %psource  %pushd  %pwd  %pycat  %pylab  %qtconsole  %quickref  %recall  %rehashx  %reload_ext  %rep  %rerun  %reset  %reset_selective  %rm  %rmdir  %run  %save  %sc  %set_env  %store  %sx  %system  %tb  %time  %timeit  %unalias  %unload_ext  %who  %who_ls  %whos  %xdel  %xmode\n",
       "\n",
       "Available cell magics:\n",
       "%%!  %%HTML  %%SVG  %%bash  %%capture  %%debug  %%file  %%html  %%javascript  %%js  %%latex  %%markdown  %%perl  %%prun  %%pypy  %%python  %%python2  %%python3  %%ruby  %%script  %%sh  %%svg  %%sx  %%system  %%time  %%timeit  %%writefile\n",
       "\n",
       "Automagic is ON, % prefix IS NOT needed for line magics."
      ]
     },
     "execution_count": 5,
     "metadata": {},
     "output_type": "execute_result"
    }
   ],
   "source": [
    "%lsmagic"
   ]
  },
  {
   "cell_type": "markdown",
   "id": "264dff93-a99d-41c8-a16a-dc4e882af352",
   "metadata": {
    "tags": []
   },
   "source": [
    "## Simply run Ray store one node cluster\n",
    "Before running ray cluster, To make Data Scientists use shared ray store, we need to check how to run one remote instance and connect to it. As ray stated ray cluster has one head node which embed one worker instance in the node. So when I launch ray store as head node, I can use the worker in the ray store.\n",
    "\n",
    "Example below is to test this use case."
   ]
  },
  {
   "cell_type": "markdown",
   "id": "a4beda6a-b313-462f-95ac-cf89841ecd3d",
   "metadata": {
    "execution": {
     "iopub.execute_input": "2021-08-29T16:42:36.264750Z",
     "iopub.status.busy": "2021-08-29T16:42:36.263831Z",
     "iopub.status.idle": "2021-08-29T16:42:36.270306Z",
     "shell.execute_reply": "2021-08-29T16:42:36.269140Z",
     "shell.execute_reply.started": "2021-08-29T16:42:36.264700Z"
    },
    "tags": []
   },
   "source": [
    "## Run ray store remotely\n",
    "\n",
    "\n",
    "~~~ shell\n",
    "$ ray start --head  --dashboard-host=0.0.0.0\n",
    "Local node IP: 192.168.0.130\n",
    "2021-08-30 01:47:10,292 INFO services.py:1245 -- View the Ray dashboard at http://192.168.0.130:8265\n",
    "\n",
    "--------------------\n",
    "Ray runtime started.\n",
    "--------------------\n",
    "\n",
    "Next steps\n",
    "  To connect to this Ray runtime from another node, run\n",
    "    ray start --address='192.168.0.130:6379' --redis-password='5241590000000000'\n",
    "\n",
    "  Alternatively, use the following Python code:\n",
    "    import ray\n",
    "    ray.init(address='auto', _redis_password='5241590000000000')\n",
    "\n",
    "  If connection fails, check your firewall settings and network configuration.\n",
    "\n",
    "  To terminate the Ray runtime, run\n",
    "    ray stop\n",
    "\n",
    "$ netstat -an | grep LISTEN | grep tcp | grep 10001\n",
    "tcp6       0      0 :::10001                :::*                    LISTEN\n",
    "~~~\n"
   ]
  },
  {
   "cell_type": "code",
   "execution_count": null,
   "id": "650e0bb3-09a5-4ddb-915b-2536596fd98f",
   "metadata": {
    "tags": []
   },
   "outputs": [],
   "source": [
    "%pip install 'ray[default]'"
   ]
  },
  {
   "cell_type": "code",
   "execution_count": 1,
   "id": "6c2863d5-0932-4bfe-8d22-fbfd0b393abb",
   "metadata": {
    "execution": {
     "iopub.execute_input": "2021-08-30T16:33:23.523277Z",
     "iopub.status.busy": "2021-08-30T16:33:23.522997Z",
     "iopub.status.idle": "2021-08-30T16:33:28.026815Z",
     "shell.execute_reply": "2021-08-30T16:33:28.025459Z",
     "shell.execute_reply.started": "2021-08-30T16:33:23.523194Z"
    },
    "tags": []
   },
   "outputs": [
    {
     "name": "stdout",
     "output_type": "stream",
     "text": [
      "connected\n",
      "\u001b[2m\u001b[36m(pid=None)\u001b[0m *\n",
      "\u001b[2m\u001b[36m(pid=None)\u001b[0m *\n",
      "duration = 1.804687738418579\n",
      "results =  [ClientObjectRef(9a4e66a11d948329ffffffffffffffffffffffff0d00000001000000), ClientObjectRef(1ff45ab4757ed4f3ffffffffffffffffffffffff0d00000001000000), ClientObjectRef(fabfb1077cce2f5bffffffffffffffffffffffff0d00000001000000), ClientObjectRef(20f354faafca6810ffffffffffffffffffffffff0d00000001000000)]\n",
      "list =  [0, 1, 2, 3]\n"
     ]
    }
   ],
   "source": [
    "import ray\n",
    "import time\n",
    "ray.init(address='ray://192.168.0.130:10001')\n",
    "\n",
    "print('connected')\n",
    "@ray.remote\n",
    "def do_some_work(x):\n",
    "    time.sleep(1) # Replace this is with work you need to do.\n",
    "    print('*')\n",
    "    return x\n",
    "\n",
    "start = time.time()\n",
    "results = [do_some_work.remote(x) for x in range(4)]\n",
    "l=ray.get(results)\n",
    "print(\"duration =\", time.time() - start)\n",
    "print(\"results = \", results)\n",
    "print('list = ',l)"
   ]
  },
  {
   "cell_type": "code",
   "execution_count": null,
   "id": "fe34b656-c764-4e4e-9e17-d95880ec28b3",
   "metadata": {},
   "outputs": [],
   "source": []
  }
 ],
 "metadata": {
  "kernelspec": {
   "display_name": "Python 3 (ipykernel)",
   "language": "python",
   "name": "python3"
  },
  "language_info": {
   "codemirror_mode": {
    "name": "ipython",
    "version": 3
   },
   "file_extension": ".py",
   "mimetype": "text/x-python",
   "name": "python",
   "nbconvert_exporter": "python",
   "pygments_lexer": "ipython3",
   "version": "3.8.11"
  },
  "toc-showtags": false,
  "widgets": {
   "application/vnd.jupyter.widget-state+json": {
    "state": {},
    "version_major": 2,
    "version_minor": 0
   }
  }
 },
 "nbformat": 4,
 "nbformat_minor": 5
}
